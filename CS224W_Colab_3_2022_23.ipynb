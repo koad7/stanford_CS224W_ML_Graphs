{
  "nbformat": 4,
  "nbformat_minor": 0,
  "metadata": {
    "colab": {
      "provenance": [],
      "machine_shape": "hm",
      "gpuType": "A100",
      "include_colab_link": true
    },
    "kernelspec": {
      "display_name": "Python 3",
      "name": "python3"
    },
    "language_info": {
      "codemirror_mode": {
        "name": "ipython",
        "version": 3
      },
      "file_extension": ".py",
      "mimetype": "text/x-python",
      "name": "python",
      "nbconvert_exporter": "python",
      "pygments_lexer": "ipython3",
      "version": "3.7.3"
    },
    "accelerator": "GPU"
  },
  "cells": [
    {
      "cell_type": "markdown",
      "metadata": {
        "id": "view-in-github",
        "colab_type": "text"
      },
      "source": [
        "<a href=\"https://colab.research.google.com/github/koad7/stanford_CS224W_ML_Graphs/blob/main/CS224W_Colab_3_2022_23.ipynb\" target=\"_parent\"><img src=\"https://colab.research.google.com/assets/colab-badge.svg\" alt=\"Open In Colab\"/></a>"
      ]
    },
    {
      "cell_type": "markdown",
      "metadata": {
        "id": "XuXWJLEm2UWS"
      },
      "source": [
        "# **CS224W - Colab 3**"
      ]
    },
    {
      "cell_type": "markdown",
      "metadata": {
        "id": "8gzsP50bF6Gb"
      },
      "source": [
        "In Colab 2 we constructed GNN models by using PyTorch Geometric's built in GCN layer, `GCNConv`. In this Colab we will go a step deeper and implement the **GraphSAGE** ([Hamilton et al. (2017)](https://arxiv.org/abs/1706.02216)) layer directly. Then we will run our models on the CORA dataset, which is a standard citation network benchmark dataset.\n",
        "\n",
        "**Note**: Make sure to **sequentially run all the cells in each section** so that the intermediate variables / packages will carry over to the next cell\n",
        "\n",
        "Have fun and good luck on Colab 3 :)"
      ]
    },
    {
      "cell_type": "markdown",
      "metadata": {
        "id": "MSaetj53YnT6"
      },
      "source": [
        "# Device\n",
        "We recommend using a GPU for this Colab.\n",
        "\n",
        "Please click `Runtime` and then `Change runtime type`. Then set the `hardware accelerator` to **GPU**."
      ]
    },
    {
      "cell_type": "markdown",
      "metadata": {
        "id": "67gOQITlCNQi"
      },
      "source": [
        "## Installation"
      ]
    },
    {
      "cell_type": "code",
      "metadata": {
        "id": "J_m9l6OYCQZP"
      },
      "source": [
        "# Install torch geometric\n",
        "import os\n",
        "import torch"
      ],
      "execution_count": 2,
      "outputs": []
    },
    {
      "cell_type": "code",
      "source": [
        "torch_ver = torch.__version__\n",
        "if 'IS_GRADESCOPE_ENV' not in os.environ:\n",
        "  !pip install -q torch-scatter -f https://pytorch-geometric.com/whl/torch-{torch_ver}.html\n",
        "  !pip install -q torch-sparse -f https://pytorch-geometric.com/whl/torch-{torch_ver}.html\n",
        "  !pip install -q torch-geometric\n",
        "  !pip install -q git+https://github.com/snap-stanford/deepsnap.git"
      ],
      "metadata": {
        "id": "x00eCpJp6PZ9"
      },
      "execution_count": null,
      "outputs": []
    },
    {
      "cell_type": "code",
      "metadata": {
        "id": "PRfgbfTjCRD_",
        "colab": {
          "base_uri": "https://localhost:8080/",
          "height": 35
        },
        "outputId": "a22a0fea-65ee-4644-df7a-baa473668992"
      },
      "source": [
        "import torch_geometric\n",
        "torch_geometric.__version__"
      ],
      "execution_count": 4,
      "outputs": [
        {
          "output_type": "execute_result",
          "data": {
            "text/plain": [
              "'2.3.1'"
            ],
            "application/vnd.google.colaboratory.intrinsic+json": {
              "type": "string"
            }
          },
          "metadata": {},
          "execution_count": 4
        }
      ]
    },
    {
      "cell_type": "markdown",
      "metadata": {
        "id": "ZoXlf4MtYrbz"
      },
      "source": [
        "# 1) GNN Layers"
      ]
    },
    {
      "cell_type": "markdown",
      "metadata": {
        "id": "TQy2RBfgYut4"
      },
      "source": [
        "## Implementing Layer Modules\n",
        "\n",
        "In Colab 2, we implemented a GCN model for node and graph classification tasks. However, for that notebook we took advantage of PyG's built in GCN module. For Colab 3, we provide a build upon a general Graph Neural Network Stack, into which we will be able to plugin our own module implementations: GraphSAGE and GAT.\n",
        "\n",
        "We will then use our layer implemenations to complete node classification on the CORA dataset, a standard citation network benchmark. In this dataset, nodes correspond to documents and edges correspond to undirected citations. Each node or document in the graph is assigned a class label and features based on the documents binarized bag-of-words representation. Specifically, the Cora graph has 2708 nodes, 5429 edges, 7 prediction classes, and 1433 features per node."
      ]
    },
    {
      "cell_type": "markdown",
      "metadata": {
        "id": "5nW_XpEwASNZ"
      },
      "source": [
        "## Creating Our Own Message Passing Layer\n",
        "\n",
        "Now let's start implementing our own message passing layers! Working through this part will help us become acutely familiar with the behind the scenes work of implementing Pytorch Message Passing Layers, allowing us to build our own GNN models. To do so, we will work with and implement 3 critcal functions needed to define a PyG Message Passing Layer: `forward`, `message`, and `aggregate`.\n",
        "\n",
        "Before diving head first into the coding details, let us quickly review the key components of the message passing process. To do so, we will focus on a single round of messsage passing with respect to a single central node $x$. Before message passing, $x$ is associated with a feature vector $x^{l-1}$, and the goal of message passing is to update this feature vector as $x^l$. To do so, we implement the following steps: 1) each neighboring node $v$ passes its current message $v^{l-1}$ across the edge $(x, v)$ - 2) for the node $x$, we aggregate all of the messages of the neighboring nodes (for example through a sum or mean) - and 3) we transform the aggregated information by for example applying linear and non-linear transformations. Altogether, the message passing process is applied such that every node $u$ in our graph updates its embedding by acting as the central node $x$ in step 1-3 described above.\n",
        "\n",
        "\n",
        "Now, we extending this process to that of a single message passing layer, the job of a message passing layer is to update the current feature representation or embedding of each node in a graph by propagating and transforming information within the graph. Overall, the general paradigm of a message passing layers is: 1) pre-processing -> 2) **message passing** / propagation -> 3) post-processing.\n",
        "\n",
        "The `forward` fuction that we will implement for our message passing layer captures this execution logic. Namely, the `forward` function handles the pre and post-processing of node features / embeddings, as well as initiates message passing by calling the `propagate` function.\n",
        "\n",
        "\n",
        "The `propagate` function encapsulates the message passing process! It does so by calling three important functions: 1) `message`, 2) `aggregate`, and 3) `update`. Our implementation will vary slightly from this, as we will not explicitly implement `update`, but instead place the logic for updating node embeddings after message passing and within the `forward` function. To be more specific, after information is propagated (message passing), we can further transform the node embeddings outputed by `propagate`. Therefore, the output of `forward` is exactly the node embeddings after one GNN layer.\n",
        "\n",
        "Lastly, before starting to implement our own layer, let us dig a bit deeper into each of the functions described above:\n",
        "\n",
        "1.\n",
        "\n",
        "```\n",
        "def propagate(edge_index, x=(x_i, x_j), extra=(extra_i, extra_j), size=size):\n",
        "```\n",
        "Calling `propagate` initiates the message passing process. Looking at the function parameters, we highlight a couple of key parameters.\n",
        "\n",
        "  - `edge_index` is passed to the forward function and captures the edge structure of the graph.\n",
        "  - `x=(x_i, x_j)` represents the node features that will be used in message passing. In order to explain why we pass the tuple `(x_i, x_j)`, we first look at how our edges are represented. For every edge $(i, j) \\in {E}$, we can differentiate $i$ as the source or central node ($x_{central}$) and j as the neighboring node ($x_{neighbor}$).\n",
        "  \n",
        "    Taking the example of message passing above, for a central node $u$ we will aggregate and transform all of the messages associated with the nodes $v$ s.t. $(u, v) \\in {E}$ (i.e. $v \\in \\mathscr{N}_{u}$). Thus we see, the subscripts `_i` and `_j` allow us to specifcally differenciate features associated with central nodes (i.e. nodes  recieving message information) and neighboring nodes (i.e. nodes passing messages).\n",
        "\n",
        "    This is definitely a somewhat confusing concept; however, one key thing to remember / wrap your head around is that depending on the perspective, a node $x$ acts as a central node or a neighboring node. In fact, in undirected graphs we store both edge directions (i.e. $(i, j)$ and $(j, i)$). From the central node perspective, `x_i`, x is collecting neighboring information to update its embedding. From a neighboring node perspective, `x_j`, x is passing its message information along the edge connecting it to a different central node.\n",
        "\n",
        "  - `extra=(extra_i, extra_j)` represents additional information that we can associate with each node beyond its current feature embedding. In fact, we can include as many additional parameters of the form `param=(param_i, param_j)` as we would like. Again, we highlight that indexing with `_i` and `_j` allows us to differentiate central and neighboring nodes.\n",
        "\n",
        "  The output of the `propagate` function is a matrix of node embeddings after the message passing process and has shape $[N, d]$.\n",
        "\n",
        "2.\n",
        "```\n",
        "def message(x_j, ...):\n",
        "```\n",
        "The `message` function is called by propagate and constructs the messages from\n",
        "neighboring nodes $j$ to central nodes $i$ for each edge $(i, j)$ in *edge_index*. This function can take any argument that was initially passed to `propagate`. Furthermore, we can again differentiate central nodes and neighboring nodes by appending `_i` or `_j` to the variable name, .e.g. `x_i` and `x_j`. Looking more specifically at the variables, we have:\n",
        "\n",
        "  - `x_j` represents a matrix of feature embeddings for all neighboring nodes passing their messages along their respective edge (i.e. all nodes $j$ for edges $(i, j) \\in {E}$). Thus, its shape is $[|{E}|, d]$!\n",
        "  - In implementing GAT we will see how to access additional variables passed to propagate\n",
        "\n",
        "  Critically, we see that the output of the `message` function is a matrix of neighboring node embeddings ready to be aggregated, having shape $[|{E}|, d]$.\n",
        "\n",
        "3.\n",
        "```\n",
        "def aggregate(self, inputs, index, dim_size = None):\n",
        "```\n",
        "Lastly, the `aggregate` function is used to aggregate the messages from neighboring nodes. Looking at the parameters we highlight:\n",
        "\n",
        "  - `inputs` represents a matrix of the messages passed from neighboring nodes (i.e. the output of the `message` function).\n",
        "  - `index` has the same shape as `inputs` and tells us the central node that corresponding to each of the rows / messages $j$ in the `inputs` matrix. Thus, `index` tells us which rows / messages to aggregate for each central node.\n",
        "\n",
        "  The output of `aggregate` is of shape $[N, d]$.\n",
        "\n",
        "\n",
        "For additional resources refer to the PyG documentation for implementing custom message passing layers: https://pytorch-geometric.readthedocs.io/en/latest/notes/create_gnn.html"
      ]
    },
    {
      "cell_type": "markdown",
      "metadata": {
        "id": "syDtxjxoCZgq"
      },
      "source": [
        "## GraphSage Implementation\n",
        "\n",
        "For our first GNN layer, we will implement the well known GraphSage ([Hamilton et al. (2017)](https://arxiv.org/abs/1706.02216)) layer!\n",
        "\n",
        "For a given *central* node $v$ with current embedding $h_v^{l-1}$, the message passing update rule to tranform $h_v^{l-1} \\rightarrow h_v^l$ is as follows:\n",
        "\n",
        "\\begin{equation}\n",
        "h_v^{(l)} = W_l\\cdot h_v^{(l-1)} + W_r \\cdot AGG(\\{h_u^{(l-1)}, \\forall u \\in N(v) \\})\n",
        "\\end{equation}\n",
        "\n",
        "where $W_1$ and $W_2$ are learanble weight matrices and the nodes $u$ are *neighboring* nodes. Additionally, we use mean aggregation for simplicity:\n",
        "\n",
        "\\begin{equation}\n",
        "AGG(\\{h_u^{(l-1)}, \\forall u \\in N(v) \\}) = \\frac{1}{|N(v)|} \\sum_{u\\in N(v)} h_u^{(l-1)}\n",
        "\\end{equation}\n",
        "\n",
        "One thing to note is that we're adding a **skip connection** to our GraphSage implementation through the term $W_l\\cdot h_v^{(l-1)}$.\n",
        "\n",
        "Before implementing this update rule, we encourage you to think about how different parts of the formulas above correspond with the functions outlined earlier: 1) `forward`, 2) `message`, and 3) `aggregate`. As a hint, we are given what the aggregation function is (i.e. mean aggregation)! Now the question remains, what are the messages passed by each neighbor nodes and when do we call the `propagate` function?\n",
        "\n",
        "Note: in this case the message function or messages are actually quite simple. Additionally, remember that the `propagate` function encapsulates the operations of / the outputs of the combined `message` and `aggregate` functions.\n",
        "\n",
        "\n",
        "Lastly, $\\ell$-2 normalization of the node embeddings is applied after each iteration.\n",
        "\n",
        "\n",
        "<font color='red'>For the following questions, DON'T refer to any existing implementations online.</font>"
      ]
    },
    {
      "cell_type": "code",
      "metadata": {
        "id": "RwG4HqCFCaOD"
      },
      "source": [
        "class GraphSage(MessagePassing):\n",
        "\n",
        "    def __init__(self, in_channels, out_channels, normalize = True,\n",
        "                 bias = False, **kwargs):\n",
        "        super(GraphSage, self).__init__(**kwargs)\n",
        "\n",
        "        self.in_channels = in_channels\n",
        "        self.out_channels = out_channels\n",
        "        self.normalize = normalize\n",
        "\n",
        "        self.lin_l = None\n",
        "        self.lin_r = None\n",
        "\n",
        "        ############################################################################\n",
        "        # TODO: Your code here!\n",
        "        # Define the layers needed for the message and update functions below.\n",
        "        # self.lin_l is the linear transformation that you apply to embedding\n",
        "        #            for central node.\n",
        "        # self.lin_r is the linear transformation that you apply to aggregated\n",
        "        #            message from neighbors.\n",
        "        # Our implementation is ~2 lines, but don't worry if you deviate from this.\n",
        "        self.lin_l = nn.Linear(self.in_channels, self.out_channels)\n",
        "        self.lin_r = nn.Linear(self.in_channels, self.out_channels)\n",
        "\n",
        "        ############################################################################\n",
        "\n",
        "        self.reset_parameters()\n",
        "\n",
        "\n",
        "    def reset_parameters(self):\n",
        "        self.lin_l.reset_parameters()\n",
        "        self.lin_r.reset_parameters()\n",
        "\n",
        "    def forward(self, x, edge_index, size = None):\n",
        "        \"\"\"\"\"\"\n",
        "\n",
        "        out = None\n",
        "\n",
        "        ############################################################################\n",
        "        # TODO: Your code here!\n",
        "        # Implement message passing, as well as any post-processing (our update rule).\n",
        "        # 1. First call propagate function to conduct the message passing.\n",
        "        #    1.1 See there for more information:\n",
        "        #        https://pytorch-geometric.readthedocs.io/en/latest/notes/create_gnn.html\n",
        "        #    1.2 We use the same representations for central (x_central) and\n",
        "        #        neighbor (x_neighbor) nodes, which means you'll pass x=(x, x)\n",
        "        #        to propagate.\n",
        "        # 2. Update our node embedding with skip connection.\n",
        "        # 3. If normalize is set, do L-2 normalization (defined in\n",
        "        #    torch.nn.functional)\n",
        "        # Our implementation is ~5 lines, but don't worry if you deviate from this.\n",
        "        prop = self.propagate(edge_index, x=(x, x), size=size)\n",
        "        out = self.lin_l(x) + self.lin_r(prop)\n",
        "        if self.normalize:\n",
        "            out = F.normalize(out, p=2)\n",
        "        ############################################################################\n",
        "\n",
        "        return out\n",
        "\n",
        "    def message(self, x_j):\n",
        "\n",
        "        out = None\n",
        "\n",
        "        ############################################################################\n",
        "        # TODO: Your code here!\n",
        "        # Implement your message function here.\n",
        "        # Our implementation is ~1 lines, but don't worry if you deviate from this.\n",
        "\n",
        "        out = x_j\n",
        "        ############################################################################\n",
        "\n",
        "        return out\n",
        "\n",
        "    def aggregate(self, inputs, index, dim_size = None):\n",
        "\n",
        "        out = None\n",
        "\n",
        "        # The axis along which to index number of nodes.\n",
        "        node_dim = self.node_dim\n",
        "\n",
        "        ############################################################################\n",
        "        # TODO: Your code here!\n",
        "        # Implement your aggregate function here.\n",
        "        # See here as how to use torch_scatter.scatter:\n",
        "        # https://pytorch-scatter.readthedocs.io/en/latest/functions/scatter.html#torch_scatter.scatter\n",
        "        # Our implementation is ~1 lines, but don't worry if you deviate from this.\n",
        "\n",
        "        out = torch_scatter.scatter(inputs, index, node_dim, dim_size=dim_size, reduce='mean')\n",
        "        ############################################################################\n",
        "\n",
        "        return out"
      ],
      "execution_count": 116,
      "outputs": []
    },
    {
      "cell_type": "markdown",
      "source": [
        "## GAT Implementation\n",
        "\n",
        "Attention mechanisms have become the state-of-the-art in many sequence-based tasks such as machine translation and learning sentence representations. One of the major benefits of attention-based mechanisms is their ability to focus on the most relevant parts of the input to make decisions. In this problem, we will see how attention mechanisms can be used to perform node classification of graph-structured data through the usage of Graph Attention Networks (GATs).\n",
        "\n",
        "The building block of the Graph Attention Network is the graph attention layer, which is a variant of the aggregation function . Let $N$ be the number of nodes and $F$ be the dimension of the feature vector for each node. The input to each graph attentional layer is a set of node features: $\\mathbf{h} = \\{\\overrightarrow{h_1}, \\overrightarrow{h_2}, \\dots, \\overrightarrow{h_N}$\\}, $\\overrightarrow{h_i} \\in R^F$. The output of each graph attentional layer is a new set of node features, which may have a new dimension $F'$: $\\mathbf{h'} = \\{\\overrightarrow{h_1'}, \\overrightarrow{h_2'}, \\dots, \\overrightarrow{h_N'}\\}$, with $\\overrightarrow{h_i'} \\in \\mathbb{R}^{F'}$.\n",
        "\n",
        "We will now describe this transformation of the input features into higher-level features performed by each graph attention layer. First, a shared linear transformation parametrized by the weight matrix $\\mathbf{W} \\in \\mathbb{R}^{F' \\times F}$ is applied to every node. Next, we perform self-attention on the nodes. We use a shared attentional mechanism:\n",
        "\\begin{equation}\n",
        "a : \\mathbb{R}^{F'} \\times \\mathbb{R}^{F'} \\rightarrow \\mathbb{R}.\n",
        "\\end{equation}\n",
        "\n",
        "This mechanism computes the attention coefficients that capture the importance of node $j$'s features to node $i$:\n",
        "\\begin{equation}\n",
        "e_{ij} = a(\\mathbf{W_l}\\overrightarrow{h_i}, \\mathbf{W_r} \\overrightarrow{h_j})\n",
        "\\end{equation}\n",
        "The most general formulation of self-attention allows every node to attend to all other nodes which drops all structural information. To utilize graph structure in the attention mechanisms, we can use masked attention. In masked attention, we only compute $e_{ij}$ for nodes $j \\in \\mathcal{N}_i$ where $\\mathcal{N}_i$ is some neighborhood of node $i$ in the graph.\n",
        "\n",
        "To easily compare coefficients across different nodes, we normalize the coefficients across $j$ using a softmax function:\n",
        "\\begin{equation}\n",
        "\\alpha_{ij} = \\text{softmax}_j(e_{ij}) = \\frac{\\exp(e_{ij})}{\\sum_{k \\in \\mathcal{N}_i} \\exp(e_{ik})}\n",
        "\\end{equation}\n",
        "\n",
        "For this problem, our attention mechanism $a$ will be a single-layer feedforward neural network parametrized by a weight vector $\\overrightarrow{a} \\in \\mathbb{R}^{F'}$, followed by a LeakyReLU nonlinearity (with negative input slope 0.2). Let $\\cdot^T$ represent transposition and $||$ represent concatenation. The coefficients computed by our attention mechanism may be expressed as:\n",
        "\n",
        "\\begin{equation}\n",
        "\\alpha_{ij} = \\frac{\\exp\\Big(\\text{LeakyReLU}\\Big(\\overrightarrow{a_l}^T \\mathbf{W_l} \\overrightarrow{h_i} + \\overrightarrow{a_r}^T\\mathbf{W_r}\\overrightarrow{h_j}\\Big)\\Big)}{\\sum_{k\\in \\mathcal{N}_i} \\exp\\Big(\\text{LeakyReLU}\\Big(\\overrightarrow{a_l}^T \\mathbf{W_l} \\overrightarrow{h_i} + \\overrightarrow{a_r}^T\\mathbf{W_r}\\overrightarrow{h_k}\\Big)\\Big)}\n",
        "\\end{equation}\n",
        "\n",
        "For the following questions, we denote $\\alpha_l = [...,\\overrightarrow{a_l}^T \\mathbf{W_l} \\overrightarrow{h_i},...]$ and $\\alpha_r = [..., \\overrightarrow{a_r}^T \\mathbf{W_r} \\overrightarrow{h_j}, ...]$.\n",
        "\n",
        "\n",
        "At every layer of GAT, after the attention coefficients are computed for that layer, the aggregation function can be computed by a weighted sum of neighborhood messages, where weights are specified by $\\alpha_{ij}$.\n",
        "\n",
        "Now, we use the normalized attention coefficients to compute a linear combination of the features corresponding to them. These aggregated features will serve as the final output features for every node.\n",
        "\n",
        "\\begin{equation}\n",
        "h_i' = \\sum_{j \\in \\mathcal{N}_i} \\alpha_{ij} \\mathbf{W_r} \\overrightarrow{h_j}.\n",
        "\\end{equation}\n",
        "\n",
        "To stabilize the learning process of self-attention, we use multi-head attention. To do this we use $K$ independent attention mechanisms, or ``heads'' compute output features as in the above equations. Then, we concatenate these output feature representations:\n",
        "\n",
        "\\begin{equation}\n",
        "    \\overrightarrow{h_i}' = ||_{k=1}^K \\Big(\\sum_{j \\in \\mathcal{N}_i} \\alpha_{ij}^{(k)} \\mathbf{W_r}^{(k)} \\overrightarrow{h_j}\\Big)\n",
        "\\end{equation}\n",
        "\n",
        "where $||$ is concentation, $\\alpha_{ij}^{(k)}$ are the normalized attention coefficients computed by the $k$-th attention mechanism $(a^k)$, and $\\mathbf{W}^{(k)}$ is the corresponding input linear transformation's weight matrix. Note that for this setting, $\\mathbf{h'} \\in \\mathbb{R}^{KF'}$."
      ],
      "metadata": {
        "id": "stTBIFQKdl_x"
      }
    },
    {
      "cell_type": "markdown",
      "metadata": {
        "id": "H4ne6Gw-CT5G"
      },
      "source": [
        "# GNN Stack Module\n",
        "\n",
        "Below is the implementation of a general GNN stack, where we can plugin any GNN layer, such as **GraphSage**, **GAT**, etc. This module is provided for you. Your implementations of the **GraphSage** and **GAT** (Colab 4) layers will function as components in the GNNStack Module."
      ]
    },
    {
      "cell_type": "code",
      "source": [
        "class GAT(MessagePassing):\n",
        "\n",
        "    def __init__(self, in_channels, out_channels, heads = 2,\n",
        "                 negative_slope = 0.2, dropout = 0., **kwargs):\n",
        "        super(GAT, self).__init__(node_dim=0, **kwargs)\n",
        "\n",
        "        self.in_channels = in_channels\n",
        "        self.out_channels = out_channels\n",
        "        self.heads = heads\n",
        "        self.negative_slope = negative_slope\n",
        "        self.dropout = dropout\n",
        "\n",
        "        self.lin_l = None\n",
        "        self.lin_r = None\n",
        "        self.att_l = None\n",
        "        self.att_r = None\n",
        "\n",
        "        ############################################################################\n",
        "        # TODO: Your code here!\n",
        "        # Define the layers needed for the message functions below.\n",
        "        # self.lin_l is the linear transformation that you apply to embeddings\n",
        "        # BEFORE message passing.\n",
        "        # Pay attention to dimensions of the linear layers, since we're using\n",
        "        # multi-head attention.\n",
        "        # Our implementation is ~1 lines, but don't worry if you deviate from this.\n",
        "\n",
        "        self.lin_l = nn.Linear(self.in_channels, self.out_channels * self.heads)\n",
        "        ############################################################################\n",
        "\n",
        "        self.lin_r = self.lin_l\n",
        "\n",
        "        ############################################################################\n",
        "        # TODO: Your code here!\n",
        "        # Define the attention parameters \\overrightarrow{a_l/r}^T in the above intro.\n",
        "        # You have to deal with multi-head scenarios.\n",
        "        # Use nn.Parameter instead of nn.Linear\n",
        "        # Our implementation is ~2 lines, but don't worry if you deviate from this.\n",
        "\n",
        "        self.att_l = nn.Parameter(torch.zeros(self.heads, self.out_channels))\n",
        "        self.att_r = nn.Parameter(torch.zeros(self.heads, self.out_channels))\n",
        "        ############################################################################\n",
        "\n",
        "        self.reset_parameters()\n",
        "\n",
        "    def reset_parameters(self):\n",
        "        nn.init.xavier_uniform_(self.lin_l.weight)\n",
        "        nn.init.xavier_uniform_(self.lin_r.weight)\n",
        "        nn.init.xavier_uniform_(self.att_l)\n",
        "        nn.init.xavier_uniform_(self.att_r)\n",
        "\n",
        "    def forward(self, x, edge_index, size = None):\n",
        "\n",
        "        H, C = self.heads, self.out_channels\n",
        "\n",
        "        ############################################################################\n",
        "        # TODO: Your code here!\n",
        "        # Implement message passing, as well as any pre- and post-processing (our update rule).\n",
        "        # 1. First apply linear transformation to node embeddings, and split that\n",
        "        #    into multiple heads. We use the same representations for source and\n",
        "        #    target nodes, but apply different linear weights (W_l and W_r)\n",
        "        # 2. Calculate alpha vectors for central nodes (alpha_l) and neighbor nodes (alpha_r).\n",
        "        # 3. Call propagate function to conduct the message passing.\n",
        "        #    3.1 Remember to pass alpha = (alpha_l, alpha_r) as a parameter.\n",
        "        #    3.2 See there for more information: https://pytorch-geometric.readthedocs.io/en/latest/notes/create_gnn.html\n",
        "        # 4. Transform the output back to the shape of N * d.\n",
        "        # Our implementation is ~5 lines, but don't worry if you deviate from this.\n",
        "\n",
        "        x_l = self.lin_l(x).reshape(-1, H, C)\n",
        "        x_r = self.lin_r(x).reshape(-1, H, C)\n",
        "        alpha_l = self.att_l * x_l\n",
        "        alpha_r = self.att_r * x_r\n",
        "        out = self.propagate(edge_index, x=(x_l, x_r), alpha=(alpha_l, alpha_r), size=size)\n",
        "        out = out.reshape(-1, H*C)\n",
        "        ############################################################################\n",
        "\n",
        "        return out\n",
        "\n",
        "\n",
        "    def message(self, x_j, alpha_j, alpha_i, index, ptr, size_i):\n",
        "\n",
        "        ############################################################################\n",
        "        # TODO: Your code here!\n",
        "        # Implement your message function. Putting the attention in message\n",
        "        # instead of in update is a little tricky.\n",
        "        # 1. Calculate the final attention weights using alpha_i and alpha_j,\n",
        "        #    and apply leaky Relu.\n",
        "        # 2. Calculate softmax over the neighbor nodes for all the nodes. Use\n",
        "        #    torch_geometric.utils.softmax instead of the one in Pytorch.\n",
        "        # 3. Apply dropout to attention weights (alpha).\n",
        "        # 4. Multiply embeddings and attention weights. As a sanity check, the output\n",
        "        #    should be of shape E * H * d.\n",
        "        # 5. ptr (LongTensor, optional): If given, computes the softmax based on\n",
        "        #    sorted inputs in CSR representation. You can simply pass it to softmax.\n",
        "        # Our implementation is ~5 lines, but don't worry if you deviate from this.\n",
        "\n",
        "        alpha = F.leaky_relu(alpha_i + alpha_j, negative_slope=self.negative_slope)\n",
        "        if ptr:\n",
        "            att_weight = F.softmax(alpha_i + alpha_j, ptr)\n",
        "        else:\n",
        "            att_weight = torch_geometric.utils.softmax(alpha_i + alpha_j, index)\n",
        "        att_weight = F.dropout(att_weight, p=self.dropout)\n",
        "        out = att_weight * x_j\n",
        "\n",
        "        ############################################################################\n",
        "\n",
        "        return out\n",
        "\n",
        "\n",
        "    def aggregate(self, inputs, index, dim_size = None):\n",
        "\n",
        "        ############################################################################\n",
        "        # TODO: Your code here!\n",
        "        # Implement your aggregate function here.\n",
        "        # See here as how to use torch_scatter.scatter: https://pytorch-scatter.readthedocs.io/en/latest/_modules/torch_scatter/scatter.html\n",
        "        # Pay attention to \"reduce\" parameter is different from that in GraphSage.\n",
        "        # Our implementation is ~1 lines, but don't worry if you deviate from this.\n",
        "\n",
        "        out = torch_scatter.scatter(inputs, index, self.node_dim, dim_size=dim_size, reduce='sum')\n",
        "        ############################################################################\n",
        "\n",
        "        return out"
      ],
      "metadata": {
        "id": "RxjqM1r3d725"
      },
      "execution_count": 117,
      "outputs": []
    },
    {
      "cell_type": "code",
      "metadata": {
        "id": "Ys8vZAFPCWWe"
      },
      "source": [
        "import torch\n",
        "import torch_scatter\n",
        "import torch.nn as nn\n",
        "import torch.nn.functional as F\n",
        "\n",
        "import torch_geometric.nn as pyg_nn\n",
        "import torch_geometric.utils as pyg_utils\n",
        "\n",
        "from torch import Tensor\n",
        "from typing import Union, Tuple, Optional\n",
        "from torch_geometric.typing import (OptPairTensor, Adj, Size, NoneType,\n",
        "                                    OptTensor)\n",
        "\n",
        "from torch.nn import Parameter, Linear\n",
        "from torch_sparse import SparseTensor, set_diag\n",
        "from torch_geometric.nn.conv import MessagePassing\n",
        "from torch_geometric.utils import remove_self_loops, add_self_loops, softmax\n",
        "\n",
        "class GNNStack(torch.nn.Module):\n",
        "    def __init__(self, input_dim, hidden_dim, output_dim, args, emb=False):\n",
        "        super(GNNStack, self).__init__()\n",
        "        conv_model = self.build_conv_model(args.model_type)\n",
        "        self.convs = nn.ModuleList()\n",
        "        self.convs.append(conv_model(input_dim, hidden_dim))\n",
        "        assert (args.num_layers >= 1), 'Number of layers is not >=1'\n",
        "        for l in range(args.num_layers-1):\n",
        "            self.convs.append(conv_model(args.heads * hidden_dim, hidden_dim))\n",
        "\n",
        "        # post-message-passing\n",
        "        self.post_mp = nn.Sequential(\n",
        "            nn.Linear(args.heads * hidden_dim, hidden_dim), nn.Dropout(args.dropout),\n",
        "            nn.Linear(hidden_dim, output_dim))\n",
        "\n",
        "        self.dropout = args.dropout\n",
        "        self.num_layers = args.num_layers\n",
        "\n",
        "        self.emb = emb\n",
        "\n",
        "    def build_conv_model(self, model_type):\n",
        "        if model_type == 'GraphSage':\n",
        "            return GraphSage\n",
        "        elif model_type == 'GAT':\n",
        "            # When applying GAT with num heads > 1, one needs to modify the\n",
        "            # input and output dimension of the conv layers (self.convs),\n",
        "            # to ensure that the input dim of the next layer is num heads\n",
        "            # multiplied by the output dim of the previous layer.\n",
        "            # HINT: In case you want to play with multiheads, you need to change the for-loop when builds up self.convs to be\n",
        "            # self.convs.append(conv_model(hidden_dim * num_heads, hidden_dim)),\n",
        "            # and also the first nn.Linear(hidden_dim * num_heads, hidden_dim) in post-message-passing.\n",
        "            return GAT\n",
        "\n",
        "    def forward(self, data):\n",
        "        x, edge_index, batch = data.x, data.edge_index, data.batch\n",
        "\n",
        "        for i in range(self.num_layers):\n",
        "            x = self.convs[i](x, edge_index)\n",
        "            x = F.relu(x)\n",
        "            x = F.dropout(x, p=self.dropout)\n",
        "\n",
        "        x = self.post_mp(x)\n",
        "\n",
        "        if self.emb == True:\n",
        "            return x\n",
        "\n",
        "        return F.log_softmax(x, dim=1)\n",
        "\n",
        "    def loss(self, pred, label):\n",
        "        return F.nll_loss(pred, label)"
      ],
      "execution_count": 82,
      "outputs": []
    },
    {
      "cell_type": "markdown",
      "metadata": {
        "id": "V2dkgSuWCheU"
      },
      "source": [
        "## Building Optimizers\n",
        "\n",
        "This function has been implemented for you. **For grading purposes please use the default Adam optimizer**, but feel free to play with other types of optimizers on your own."
      ]
    },
    {
      "cell_type": "code",
      "metadata": {
        "id": "f_TIQ8NPCjBP"
      },
      "source": [
        "import torch.optim as optim\n",
        "\n",
        "def build_optimizer(args, params):\n",
        "    weight_decay = args.weight_decay\n",
        "    filter_fn = filter(lambda p : p.requires_grad, params)\n",
        "    if args.opt == 'adam':\n",
        "        optimizer = optim.Adam(filter_fn, lr=args.lr, weight_decay=weight_decay)\n",
        "    elif args.opt == 'sgd':\n",
        "        optimizer = optim.SGD(filter_fn, lr=args.lr, momentum=0.95, weight_decay=weight_decay)\n",
        "    elif args.opt == 'rmsprop':\n",
        "        optimizer = optim.RMSprop(filter_fn, lr=args.lr, weight_decay=weight_decay)\n",
        "    elif args.opt == 'adagrad':\n",
        "        optimizer = optim.Adagrad(filter_fn, lr=args.lr, weight_decay=weight_decay)\n",
        "    if args.opt_scheduler == 'none':\n",
        "        return None, optimizer\n",
        "    elif args.opt_scheduler == 'step':\n",
        "        scheduler = optim.lr_scheduler.StepLR(optimizer, step_size=args.opt_decay_step, gamma=args.opt_decay_rate)\n",
        "    elif args.opt_scheduler == 'cos':\n",
        "        scheduler = optim.lr_scheduler.CosineAnnealingLR(optimizer, T_max=args.opt_restart)\n",
        "    return scheduler, optimizer"
      ],
      "execution_count": 86,
      "outputs": []
    },
    {
      "cell_type": "markdown",
      "metadata": {
        "id": "hBYdWFwYCkwY"
      },
      "source": [
        "## Training and Testing\n",
        "\n",
        "Here we provide you with the functions to train and test. **Please do not modify this part for grading purposes.**"
      ]
    },
    {
      "cell_type": "code",
      "metadata": {
        "id": "_tZMWRc8CmGg"
      },
      "source": [
        "import time\n",
        "\n",
        "import networkx as nx\n",
        "import numpy as np\n",
        "import torch\n",
        "import torch.optim as optim\n",
        "\n",
        "from torch_geometric.datasets import TUDataset\n",
        "from torch_geometric.datasets import Planetoid\n",
        "from torch_geometric.data import DataLoader\n",
        "\n",
        "import torch_geometric.nn as pyg_nn\n",
        "\n",
        "import matplotlib.pyplot as plt\n",
        "\n",
        "\n",
        "def train(dataset, args):\n",
        "\n",
        "    print(\"Node task. test set size:\", np.sum(dataset[0]['train_mask'].numpy()))\n",
        "    test_loader = loader = DataLoader(dataset, batch_size=args.batch_size, shuffle=True)\n",
        "\n",
        "    # build model\n",
        "    model = GNNStack(dataset.num_node_features, args.hidden_dim, dataset.num_classes,\n",
        "                            args)\n",
        "    scheduler, opt = build_optimizer(args, model.parameters())\n",
        "\n",
        "    # train\n",
        "    losses = []\n",
        "    test_accs = []\n",
        "    for epoch in range(args.epochs):\n",
        "        total_loss = 0\n",
        "        model.train()\n",
        "        for batch in loader:\n",
        "            opt.zero_grad()\n",
        "            pred = model(batch)\n",
        "            label = batch.y\n",
        "            pred = pred[batch.train_mask]\n",
        "            label = label[batch.train_mask]\n",
        "            loss = model.loss(pred, label)\n",
        "            loss.backward()\n",
        "            opt.step()\n",
        "            total_loss += loss.item() * batch.num_graphs\n",
        "        total_loss /= len(loader.dataset)\n",
        "        losses.append(total_loss)\n",
        "\n",
        "        if epoch % 10 == 0:\n",
        "          test_acc = test(test_loader, model)\n",
        "          test_accs.append(test_acc)\n",
        "          print(\"Epoch \", epoch, \"Loss: \", total_loss, \"Test Acc.: \", test_acc)\n",
        "        else:\n",
        "          test_accs.append(test_accs[-1])\n",
        "    return test_accs, losses\n",
        "\n",
        "def test(loader, model, is_validation=True):\n",
        "    model.eval()\n",
        "\n",
        "    correct = 0\n",
        "    for data in loader:\n",
        "        with torch.no_grad():\n",
        "            # max(dim=1) returns values, indices tuple; only need indices\n",
        "            pred = model(data).max(dim=1)[1]\n",
        "            label = data.y\n",
        "\n",
        "        mask = data.val_mask if is_validation else data.test_mask\n",
        "        # node classification: only evaluate on nodes in test set\n",
        "        pred = pred[mask]\n",
        "        label = data.y[mask]\n",
        "\n",
        "        correct += pred.eq(label).sum().item()\n",
        "\n",
        "    total = 0\n",
        "    for data in loader.dataset:\n",
        "        total += torch.sum(data.val_mask if is_validation else data.test_mask).item()\n",
        "    return correct / total\n",
        "\n",
        "class objectview(object):\n",
        "    def __init__(self, d):\n",
        "        self.__dict__ = d\n"
      ],
      "execution_count": 87,
      "outputs": []
    },
    {
      "cell_type": "markdown",
      "metadata": {
        "id": "L7-h7jIsCns4"
      },
      "source": [
        "## Let's Start the Training!\n",
        "\n",
        "We will be working on the CORA dataset on node-level classification.\n",
        "\n",
        "This part is implemented for you. **For grading purposes, please do not modify the default parameters.** However, feel free to play with different configurations just for fun!\n",
        "\n",
        "**Submit your best accuracy and loss on Gradescope.**"
      ]
    },
    {
      "cell_type": "code",
      "metadata": {
        "id": "qe9B45l9Cpz2",
        "colab": {
          "base_uri": "https://localhost:8080/",
          "height": 1000
        },
        "outputId": "06748b7e-d772-43ae-e6f0-8cd94aab3b72"
      },
      "source": [
        "# GraphSage\n",
        "\n",
        "def main():\n",
        "    for args in [\n",
        "        {'model_type': 'GraphSage', 'dataset': 'cora', 'num_layers': 2, 'heads': 1,\n",
        "         'batch_size': 32, 'hidden_dim': 32, 'dropout': 0.5, 'epochs': 500,\n",
        "         'opt': 'adam', 'opt_scheduler': 'none', 'opt_restart': 0,\n",
        "         'weight_decay': 5e-3, 'lr': 0.01},\n",
        "    ]:\n",
        "        args = objectview(args)\n",
        "        for model in ['GraphSage']:\n",
        "            args.model_type = model\n",
        "\n",
        "            # Match the dimension.\n",
        "            if model == 'GAT':\n",
        "              args.heads = 2\n",
        "            else:\n",
        "              args.heads = 1\n",
        "\n",
        "            if args.dataset == 'cora':\n",
        "                dataset = Planetoid(root='/tmp/cora', name='Cora')\n",
        "            else:\n",
        "                raise NotImplementedError(\"Unknown dataset\")\n",
        "            test_accs, losses = train(dataset, args)\n",
        "\n",
        "            print(\"Maximum accuracy: {0}\".format(max(test_accs)))\n",
        "            print(\"Minimum loss: {0}\".format(min(losses)))\n",
        "\n",
        "            plt.title(dataset.name)\n",
        "            plt.plot(losses, label=\"training loss\" + \" - \" + args.model_type)\n",
        "            plt.plot(test_accs, label=\"test accuracy\" + \" - \" + args.model_type)\n",
        "        plt.legend()\n",
        "        plt.show()\n",
        "\n",
        "if __name__ == '__main__':\n",
        "    main()"
      ],
      "execution_count": 88,
      "outputs": [
        {
          "output_type": "stream",
          "name": "stdout",
          "text": [
            "Node task. test set size: 140\n",
            "Epoch  0 Loss:  1.9678910970687866 Test Acc.:  0.08\n",
            "Epoch  10 Loss:  1.7296777963638306 Test Acc.:  0.398\n",
            "Epoch  20 Loss:  1.139722466468811 Test Acc.:  0.534\n",
            "Epoch  30 Loss:  0.6799589395523071 Test Acc.:  0.602\n",
            "Epoch  40 Loss:  0.3640291094779968 Test Acc.:  0.63\n",
            "Epoch  50 Loss:  0.30360233783721924 Test Acc.:  0.684\n",
            "Epoch  60 Loss:  0.26929202675819397 Test Acc.:  0.66\n",
            "Epoch  70 Loss:  0.22106225788593292 Test Acc.:  0.696\n",
            "Epoch  80 Loss:  0.2191571444272995 Test Acc.:  0.648\n",
            "Epoch  90 Loss:  0.2251547873020172 Test Acc.:  0.678\n",
            "Epoch  100 Loss:  0.2463349997997284 Test Acc.:  0.696\n",
            "Epoch  110 Loss:  0.18591874837875366 Test Acc.:  0.668\n",
            "Epoch  120 Loss:  0.16691596806049347 Test Acc.:  0.686\n",
            "Epoch  130 Loss:  0.19256334006786346 Test Acc.:  0.702\n",
            "Epoch  140 Loss:  0.20756006240844727 Test Acc.:  0.704\n",
            "Epoch  150 Loss:  0.1785430610179901 Test Acc.:  0.696\n",
            "Epoch  160 Loss:  0.16766907274723053 Test Acc.:  0.686\n",
            "Epoch  170 Loss:  0.2292046993970871 Test Acc.:  0.682\n",
            "Epoch  180 Loss:  0.2886824309825897 Test Acc.:  0.69\n",
            "Epoch  190 Loss:  0.20075145363807678 Test Acc.:  0.662\n",
            "Epoch  200 Loss:  0.20275312662124634 Test Acc.:  0.692\n",
            "Epoch  210 Loss:  0.20684880018234253 Test Acc.:  0.702\n",
            "Epoch  220 Loss:  0.2080191969871521 Test Acc.:  0.718\n",
            "Epoch  230 Loss:  0.17669616639614105 Test Acc.:  0.706\n",
            "Epoch  240 Loss:  0.14914293587207794 Test Acc.:  0.716\n",
            "Epoch  250 Loss:  0.16344481706619263 Test Acc.:  0.702\n",
            "Epoch  260 Loss:  0.21160022914409637 Test Acc.:  0.688\n",
            "Epoch  270 Loss:  0.21961171925067902 Test Acc.:  0.724\n",
            "Epoch  280 Loss:  0.20470240712165833 Test Acc.:  0.676\n",
            "Epoch  290 Loss:  0.19259704649448395 Test Acc.:  0.726\n",
            "Epoch  300 Loss:  0.23921795189380646 Test Acc.:  0.698\n",
            "Epoch  310 Loss:  0.18974930047988892 Test Acc.:  0.718\n",
            "Epoch  320 Loss:  0.11896616965532303 Test Acc.:  0.706\n",
            "Epoch  330 Loss:  0.18380264937877655 Test Acc.:  0.69\n",
            "Epoch  340 Loss:  0.20219139754772186 Test Acc.:  0.692\n",
            "Epoch  350 Loss:  0.14386914670467377 Test Acc.:  0.694\n",
            "Epoch  360 Loss:  0.1649615466594696 Test Acc.:  0.668\n",
            "Epoch  370 Loss:  0.15503188967704773 Test Acc.:  0.696\n",
            "Epoch  380 Loss:  0.20897972583770752 Test Acc.:  0.672\n",
            "Epoch  390 Loss:  0.15373952686786652 Test Acc.:  0.65\n",
            "Epoch  400 Loss:  0.13123539090156555 Test Acc.:  0.68\n",
            "Epoch  410 Loss:  0.13172344863414764 Test Acc.:  0.71\n",
            "Epoch  420 Loss:  0.14722968637943268 Test Acc.:  0.662\n",
            "Epoch  430 Loss:  0.21938395500183105 Test Acc.:  0.708\n",
            "Epoch  440 Loss:  0.16631929576396942 Test Acc.:  0.696\n",
            "Epoch  450 Loss:  0.16216988861560822 Test Acc.:  0.718\n",
            "Epoch  460 Loss:  0.17051319777965546 Test Acc.:  0.702\n",
            "Epoch  470 Loss:  0.15782716870307922 Test Acc.:  0.718\n",
            "Epoch  480 Loss:  0.13758111000061035 Test Acc.:  0.692\n",
            "Epoch  490 Loss:  0.17541463673114777 Test Acc.:  0.712\n",
            "Maximum accuracy: 0.726\n",
            "Minimum loss: 0.10418523102998734\n"
          ]
        },
        {
          "output_type": "display_data",
          "data": {
            "text/plain": [
              "<Figure size 640x480 with 1 Axes>"
            ],
            "image/png": "[encoded data removed]"
          },
          "metadata": {}
        }
      ]
    },
    {
      "cell_type": "code",
      "source": [
        "# GAT\n",
        "def main():\n",
        "    for args in [\n",
        "        {'model_type': 'GraphSage', 'dataset': 'cora', 'num_layers': 2, 'heads': 1,\n",
        "         'batch_size': 32, 'hidden_dim': 32, 'dropout': 0.5, 'epochs': 500,\n",
        "         'opt': 'adam', 'opt_scheduler': 'none', 'opt_restart': 0,\n",
        "         'weight_decay': 5e-3, 'lr': 0.01},\n",
        "    ]:\n",
        "        args = objectview(args)\n",
        "        for model in ['GAT']:\n",
        "            args.model_type = model\n",
        "\n",
        "            # Match the dimension.\n",
        "            if model == 'GAT':\n",
        "              args.heads = 2\n",
        "            else:\n",
        "              args.heads = 1\n",
        "\n",
        "            if args.dataset == 'cora':\n",
        "                dataset = Planetoid(root='/tmp/cora', name='Cora')\n",
        "            else:\n",
        "                raise NotImplementedError(\"Unknown dataset\")\n",
        "            test_accs, losses = train(dataset, args)\n",
        "\n",
        "            print(\"Maximum accuracy: {0}\".format(max(test_accs)))\n",
        "            print(\"Minimum loss: {0}\".format(min(losses)))\n",
        "\n",
        "            plt.title(dataset.name)\n",
        "            plt.plot(losses, label=\"training loss\" + \" - \" + args.model_type)\n",
        "            plt.plot(test_accs, label=\"test accuracy\" + \" - \" + args.model_type)\n",
        "        plt.legend()\n",
        "        plt.show()\n",
        "\n",
        "if __name__ == '__main__':\n",
        "    main()"
      ],
      "metadata": {
        "colab": {
          "base_uri": "https://localhost:8080/",
          "height": 1000
        },
        "id": "WLwivs8RehA6",
        "outputId": "e9f5938e-4adb-41fd-eb97-ccb25d663490"
      },
      "execution_count": 89,
      "outputs": [
        {
          "output_type": "stream",
          "name": "stdout",
          "text": [
            "Node task. test set size: 140\n",
            "Epoch  0 Loss:  1.9549652338027954 Test Acc.:  0.308\n",
            "Epoch  10 Loss:  1.1740487813949585 Test Acc.:  0.554\n",
            "Epoch  20 Loss:  0.27615123987197876 Test Acc.:  0.71\n",
            "Epoch  30 Loss:  0.12338642030954361 Test Acc.:  0.702\n",
            "Epoch  40 Loss:  0.14537706971168518 Test Acc.:  0.69\n",
            "Epoch  50 Loss:  0.12821458280086517 Test Acc.:  0.766\n",
            "Epoch  60 Loss:  0.09982029348611832 Test Acc.:  0.726\n",
            "Epoch  70 Loss:  0.09586767107248306 Test Acc.:  0.732\n",
            "Epoch  80 Loss:  0.11061763763427734 Test Acc.:  0.72\n",
            "Epoch  90 Loss:  0.08249208331108093 Test Acc.:  0.732\n",
            "Epoch  100 Loss:  0.09142410755157471 Test Acc.:  0.734\n",
            "Epoch  110 Loss:  0.07790748029947281 Test Acc.:  0.732\n",
            "Epoch  120 Loss:  0.08850941061973572 Test Acc.:  0.708\n",
            "Epoch  130 Loss:  0.06890281289815903 Test Acc.:  0.716\n",
            "Epoch  140 Loss:  0.08210626244544983 Test Acc.:  0.716\n",
            "Epoch  150 Loss:  0.08217783272266388 Test Acc.:  0.72\n",
            "Epoch  160 Loss:  0.06908825784921646 Test Acc.:  0.73\n",
            "Epoch  170 Loss:  0.09230227023363113 Test Acc.:  0.744\n",
            "Epoch  180 Loss:  0.07071096450090408 Test Acc.:  0.74\n",
            "Epoch  190 Loss:  0.06166515499353409 Test Acc.:  0.704\n",
            "Epoch  200 Loss:  0.0564919114112854 Test Acc.:  0.71\n",
            "Epoch  210 Loss:  0.06739368289709091 Test Acc.:  0.692\n",
            "Epoch  220 Loss:  0.04923861473798752 Test Acc.:  0.732\n",
            "Epoch  230 Loss:  0.0793175920844078 Test Acc.:  0.724\n",
            "Epoch  240 Loss:  0.05042022094130516 Test Acc.:  0.712\n",
            "Epoch  250 Loss:  0.07019533216953278 Test Acc.:  0.704\n",
            "Epoch  260 Loss:  0.0523834191262722 Test Acc.:  0.724\n",
            "Epoch  270 Loss:  0.0531182736158371 Test Acc.:  0.716\n",
            "Epoch  280 Loss:  0.08119917660951614 Test Acc.:  0.726\n",
            "Epoch  290 Loss:  0.04793476313352585 Test Acc.:  0.678\n",
            "Epoch  300 Loss:  0.04473043978214264 Test Acc.:  0.76\n",
            "Epoch  310 Loss:  0.05852044001221657 Test Acc.:  0.74\n",
            "Epoch  320 Loss:  0.057359471917152405 Test Acc.:  0.712\n",
            "Epoch  330 Loss:  0.053376372903585434 Test Acc.:  0.722\n",
            "Epoch  340 Loss:  0.07997352629899979 Test Acc.:  0.696\n",
            "Epoch  350 Loss:  0.08127997815608978 Test Acc.:  0.68\n",
            "Epoch  360 Loss:  0.07203458249568939 Test Acc.:  0.718\n",
            "Epoch  370 Loss:  0.09513414651155472 Test Acc.:  0.702\n",
            "Epoch  380 Loss:  0.07298983633518219 Test Acc.:  0.748\n",
            "Epoch  390 Loss:  0.07596547156572342 Test Acc.:  0.716\n",
            "Epoch  400 Loss:  0.06620490550994873 Test Acc.:  0.736\n",
            "Epoch  410 Loss:  0.05547288432717323 Test Acc.:  0.726\n",
            "Epoch  420 Loss:  0.050948746502399445 Test Acc.:  0.732\n",
            "Epoch  430 Loss:  0.10272236913442612 Test Acc.:  0.734\n",
            "Epoch  440 Loss:  0.04809258133172989 Test Acc.:  0.742\n",
            "Epoch  450 Loss:  0.0490686297416687 Test Acc.:  0.744\n",
            "Epoch  460 Loss:  0.058222513645887375 Test Acc.:  0.724\n",
            "Epoch  470 Loss:  0.06861674785614014 Test Acc.:  0.76\n",
            "Epoch  480 Loss:  0.04700753092765808 Test Acc.:  0.728\n",
            "Epoch  490 Loss:  0.050650455057621 Test Acc.:  0.746\n",
            "Maximum accuracy: 0.766\n",
            "Minimum loss: 0.029720446094870567\n"
          ]
        },
        {
          "output_type": "display_data",
          "data": {
            "text/plain": [
              "<Figure size 640x480 with 1 Axes>"
            ],
            "image/png": "[encoded data removed]"
          },
          "metadata": {}
        }
      ]
    },
    {
      "cell_type": "markdown",
      "source": [
        "## Question 1.1: What is the maximum accuracy you could get on test set for GraphSage? (10 points)\n",
        "\n",
        "Maximum accuracy: 0.732"
      ],
      "metadata": {
        "id": "CtdkLs_be_yH"
      }
    },
    {
      "cell_type": "markdown",
      "source": [
        "## Question 1.2: What is the maximum accuracy you could get on test set for GAT? (10 points)\n",
        "\n",
        "Maximum accuracy: 0.748"
      ],
      "metadata": {
        "id": "I0aSjSRCfF8j"
      }
    },
    {
      "cell_type": "markdown",
      "source": [
        "# 2 DeepSNAP Basics\n",
        "\n",
        "In previous Colabs we used both of graph class (NetworkX) and tensor (PyG) representations of graphs separately. The graph class `nx.Graph` provides rich analysis and manipulation functionalities, such as the clustering coefficient and PageRank. To feed the graph into the model, we need to transform the graph into tensor representations including edge tensor `edge_index` and node attributes tensors `x` and `y`. But only using tensors (as the graphs formatted in PyG `datasets` and `data`) will make many graph manipulations and analysis less efficient and harder. So, in this Colab we will use DeepSNAP which combines both representations and offers a full pipeline for GNN training / validation / testing.\n"
      ],
      "metadata": {
        "id": "fZEvyu-ffI1r"
      }
    },
    {
      "cell_type": "markdown",
      "source": [
        "In general, [DeepSNAP](https://github.com/snap-stanford/deepsnap) is a Python library to assist efficient deep learning on graphs. DeepSNAP features in its support for flexible graph manipulation, standard pipeline, heterogeneous graphs and simple API.\n",
        "\n",
        "1. DeepSNAP is easy to be used for the sophisticated graph manipulations, such as feature computation, pretraining, subgraph extraction etc. during/before the training.\n",
        "2. In most frameworks, standard pipelines for node, edge, link, graph-level tasks under inductive or transductive settings are left to the user to code. In practice, there are additional design choices involved (such as how to split dataset for link prediction). DeepSNAP provides such a standard pipeline that greatly saves repetitive coding efforts, and enables fair comparision for models.\n",
        "3. Many real-world graphs are heterogeneous graphs. But packages support for heterogeneous graphs, including data storage and flexible message passing, is lacking. DeepSNAP provides an efficient and flexible heterogeneous graph that supports both the node and edge heterogeneity.\n",
        "\n",
        "[DeepSNAP](https://github.com/snap-stanford/deepsnap) is a newly released project and it is still under development. If you find any bugs or have any improvement ideas, feel free to raise issues or create pull requests on the GitHub directly :)\n",
        "\n",
        "In this Colab, we will focus on DeepSNAP graph manipulations and splitting settings."
      ],
      "metadata": {
        "id": "VKvX4K_LfUi1"
      }
    },
    {
      "cell_type": "markdown",
      "source": [
        "## Setup"
      ],
      "metadata": {
        "id": "7nu4a7ugfp1X"
      }
    },
    {
      "cell_type": "code",
      "source": [
        "import torch\n",
        "import networkx as nx\n",
        "import matplotlib.pyplot as plt\n",
        "\n",
        "from deepsnap.graph import Graph\n",
        "from deepsnap.batch import Batch\n",
        "from deepsnap.dataset import GraphDataset\n",
        "from torch_geometric.datasets import Planetoid, TUDataset\n",
        "\n",
        "from torch.utils.data import DataLoader\n",
        "\n",
        "def visualize(G, color_map=None, seed=123):\n",
        "  if color_map is None:\n",
        "    color_map = '#c92506'\n",
        "  plt.figure(figsize=(8, 8))\n",
        "  nodes = nx.draw_networkx_nodes(G, pos=nx.spring_layout(G, seed=seed), \\\n",
        "                                 label=None, node_color=color_map, node_shape='o', node_size=150)\n",
        "  edges = nx.draw_networkx_edges(G, pos=nx.spring_layout(G, seed=seed), alpha=0.5)\n",
        "  if color_map is not None:\n",
        "    plt.scatter([],[], c='#c92506', label='Nodes with label 0', edgecolors=\"black\", s=140)\n",
        "    plt.scatter([],[], c='#fcec00', label='Nodes with label 1', edgecolors=\"black\", s=140)\n",
        "    plt.legend(prop={'size': 13}, handletextpad=0)\n",
        "  nodes.set_edgecolor('black')\n",
        "  plt.show()"
      ],
      "metadata": {
        "id": "YYIgzqGXfIle"
      },
      "execution_count": 92,
      "outputs": []
    },
    {
      "cell_type": "markdown",
      "source": [
        "## DeepSNAP Graph\n",
        "\n",
        "The `deepsnap.graph.Graph` class is the core class of DeepSNAP. It not only represents a graph in tensor format but also references to a graph object from graph manipulation package.\n",
        "\n",
        "Currently DeepSNAP supports [NetworkX](https://networkx.org/) and [Snap.py](https://snap.stanford.edu/snappy/doc/index.html) as the back end graph manipulation package.\n",
        "\n",
        "In this Colab, we will use the NetworkX as the back end graph manipulation package."
      ],
      "metadata": {
        "id": "Zv70q-GNf2F3"
      }
    },
    {
      "cell_type": "markdown",
      "source": [
        "Lets first try to convert a simple random NetworkX graph to a DeepSNAP graph."
      ],
      "metadata": {
        "id": "K4oJe_F5f8ma"
      }
    },
    {
      "cell_type": "code",
      "source": [
        "num_nodes = 100\n",
        "p = 0.05\n",
        "seed = 100\n",
        "\n",
        "# Generate a networkx random graph\n",
        "G = nx.gnp_random_graph(num_nodes, p, seed=seed)\n",
        "\n",
        "# Generate some random node features and labels\n",
        "node_feature = {node : torch.rand([5, ]) for node in G.nodes()}\n",
        "node_label = {node : torch.randint(0, 2, ()) for node in G.nodes()}\n",
        "\n",
        "# Set the random features and labels to G\n",
        "nx.set_node_attributes(G, node_feature, name='node_feature')\n",
        "nx.set_node_attributes(G, node_label, name='node_label')\n",
        "\n",
        "# Print one node example\n",
        "for node in G.nodes(data=True):\n",
        "  print(node)\n",
        "  break\n",
        "\n",
        "color_map = ['#c92506' if node[1]['node_label'].item() == 0 else '#fcec00' for node in G.nodes(data=True)]\n",
        "\n",
        "# Visualize the graph\n",
        "visualize(G, color_map=color_map)\n",
        "\n",
        "# Transform the networkx graph into the deepsnap graph\n",
        "graph = Graph(G)\n",
        "\n",
        "# Print out the general deepsnap graph information\n",
        "print(graph)\n",
        "\n",
        "# DeepSNAP will convert node attributes to tensors\n",
        "# Notice the type of tensors\n",
        "print(\"Node feature (node_feature) has shape {} and type {}\".format(graph.node_feature.shape, graph.node_feature.dtype))\n",
        "print(\"Node label (node_label) has shape {} and type {}\".format(graph.node_label.shape, graph.node_label.dtype))\n",
        "\n",
        "# DeepSNAP will also generate the edge_index tensor\n",
        "print(\"Edge index (edge_index) has shape {} and type {}\".format(graph.edge_index.shape, graph.edge_index.dtype))\n",
        "\n",
        "# Different from only storing tensors, deepsnap graph also references to the networkx graph\n",
        "# We will discuss why the reference will be helpful later\n",
        "print(\"The DeepSNAP graph has {} as the internal manupulation graph\".format(type(graph.G)))"
      ],
      "metadata": {
        "colab": {
          "base_uri": "https://localhost:8080/",
          "height": 760
        },
        "id": "Y1xM8JR0e9TR",
        "outputId": "28ec1ba4-34c6-4ca4-fc6c-86fb0e461163"
      },
      "execution_count": 93,
      "outputs": [
        {
          "output_type": "stream",
          "name": "stdout",
          "text": [
            "(0, {'node_feature': tensor([0.8878, 0.9592, 0.7670, 0.0993, 0.4652]), 'node_label': tensor(1)})\n"
          ]
        },
        {
          "output_type": "display_data",
          "data": {
            "text/plain": [
              "<Figure size 800x800 with 1 Axes>"
            ],
            "image/png": "[encoded data removed]"
          },
          "metadata": {}
        },
        {
          "output_type": "stream",
          "name": "stdout",
          "text": [
            "Graph(G=[], edge_index=[2, 524], edge_label_index=[2, 524], node_feature=[100, 5], node_label=[100], node_label_index=[100])\n",
            "Node feature (node_feature) has shape torch.Size([100, 5]) and type torch.float32\n",
            "Node label (node_label) has shape torch.Size([100]) and type torch.int64\n",
            "Edge index (edge_index) has shape torch.Size([2, 524]) and type torch.int64\n",
            "The DeepSNAP graph has <class 'networkx.classes.graph.Graph'> as the internal manupulation graph\n"
          ]
        }
      ]
    },
    {
      "cell_type": "markdown",
      "source": [
        "In DeepSNAP we have three levels of attributes. In this example, we have the **node level** attributes including `node_feature` and `node_label`. The other two levels of attributes are graph and edge attributes. The usage is similar to the node level one except that the feature becomes `edge_feature` or `graph_feature` and label becomes `edge_label` or `graph_label` etc."
      ],
      "metadata": {
        "id": "pv6OgY5hgE8X"
      }
    },
    {
      "cell_type": "markdown",
      "source": [
        "Similar to the NetworkX graph, we can easily get some basic information of the graph through class properties directly."
      ],
      "metadata": {
        "id": "wK6_FIpEgHz6"
      }
    },
    {
      "cell_type": "code",
      "source": [
        "# Number of nodes\n",
        "print(\"The random graph has {} nodes\".format(graph.num_nodes))\n",
        "\n",
        "# Number of edges\n",
        "print(\"The random graph has {} edges\".format(graph.num_edges))"
      ],
      "metadata": {
        "colab": {
          "base_uri": "https://localhost:8080/"
        },
        "id": "ytW91Sg3gHoC",
        "outputId": "b1e74bbf-8a80-4407-c590-66293b8dde0b"
      },
      "execution_count": 94,
      "outputs": [
        {
          "output_type": "stream",
          "name": "stdout",
          "text": [
            "The random graph has 100 nodes\n",
            "The random graph has 262 edges\n"
          ]
        }
      ]
    },
    {
      "cell_type": "markdown",
      "source": [
        "DeepSNAP also provides functions that can automatically transform the PyG datasets into a list of DeepSNAP graphs.\n",
        "\n",
        "Here we transform the CORA dataset into a list of DeepSNAP graphs."
      ],
      "metadata": {
        "id": "JIuIi6JPgMHq"
      }
    },
    {
      "cell_type": "code",
      "source": [
        "root = './tmp/cora'\n",
        "name = 'Cora'\n",
        "\n",
        "# The Cora dataset\n",
        "pyg_dataset= Planetoid(root, name)\n",
        "\n",
        "# PyG dataset to a list of deepsnap graphs\n",
        "graphs = GraphDataset.pyg_to_graphs(pyg_dataset)\n",
        "\n",
        "# Get the first deepsnap graph (CORA only has one graph)\n",
        "graph = graphs[0]\n",
        "print(graph)"
      ],
      "metadata": {
        "colab": {
          "base_uri": "https://localhost:8080/"
        },
        "id": "2kYclXCGgN9T",
        "outputId": "f6f8571b-2558-472f-a89d-9e742064ccb9"
      },
      "execution_count": 95,
      "outputs": [
        {
          "output_type": "stream",
          "name": "stderr",
          "text": [
            "Downloading https://github.com/kimiyoung/planetoid/raw/master/data/ind.cora.x\n",
            "Downloading https://github.com/kimiyoung/planetoid/raw/master/data/ind.cora.tx\n",
            "Downloading https://github.com/kimiyoung/planetoid/raw/master/data/ind.cora.allx\n",
            "Downloading https://github.com/kimiyoung/planetoid/raw/master/data/ind.cora.y\n",
            "Downloading https://github.com/kimiyoung/planetoid/raw/master/data/ind.cora.ty\n",
            "Downloading https://github.com/kimiyoung/planetoid/raw/master/data/ind.cora.ally\n",
            "Downloading https://github.com/kimiyoung/planetoid/raw/master/data/ind.cora.graph\n",
            "Downloading https://github.com/kimiyoung/planetoid/raw/master/data/ind.cora.test.index\n"
          ]
        },
        {
          "output_type": "stream",
          "name": "stdout",
          "text": [
            "Graph(G=[], edge_index=[2, 10556], edge_label_index=[2, 10556], node_feature=[2708, 1433], node_label=[2708], node_label_index=[2708])\n"
          ]
        },
        {
          "output_type": "stream",
          "name": "stderr",
          "text": [
            "Processing...\n",
            "Done!\n"
          ]
        }
      ]
    },
    {
      "cell_type": "markdown",
      "source": [
        "## Question 2.1: What is the number of classes and number of features in the CORA graph? (5 points)\n",
        "\n",
        "Submit your answers on Gradescope."
      ],
      "metadata": {
        "id": "LTb94QGngUAi"
      }
    },
    {
      "cell_type": "code",
      "source": [
        "def get_num_node_classes(graph):\n",
        "  # TODO: Implement this function that takes a deepsnap graph object\n",
        "  # and return the number of node classes of that graph.\n",
        "\n",
        "  num_node_classes = 0\n",
        "\n",
        "  ############# Your code here #############\n",
        "  ## (~1 line of code)\n",
        "  ## Note\n",
        "  ## 1. Colab autocomplete functionality might be useful\n",
        "  ## 2. DeepSNAP documentation might be useful https://snap.stanford.edu/deepsnap/modules/graph.html\n",
        "\n",
        "  num_node_classes = graph.num_node_labels\n",
        "  ##########################################\n",
        "\n",
        "  return num_node_classes\n",
        "\n",
        "def get_num_node_features(graph):\n",
        "  # TODO: Implement this function that takes a deepsnap graph object\n",
        "  # and return the number of node features of that graph.\n",
        "\n",
        "  num_node_features = 0\n",
        "\n",
        "  ############# Your code here #############\n",
        "  ## (~1 line of code)\n",
        "  ## Note\n",
        "  ## 1. Colab autocomplete functionality might be useful\n",
        "  ## 2. DeepSNAP documentation might be useful https://snap.stanford.edu/deepsnap/modules/graph.html\n",
        "\n",
        "  num_node_features = graph.num_node_features\n",
        "  ##########################################\n",
        "\n",
        "  return num_node_features\n",
        "\n",
        "num_node_classes = get_num_node_classes(graph)\n",
        "num_node_features = get_num_node_features(graph)\n",
        "print(\"{} has {} classes\".format(name, num_node_classes))\n",
        "print(\"{} has {} features\".format(name, num_node_features))"
      ],
      "metadata": {
        "colab": {
          "base_uri": "https://localhost:8080/"
        },
        "id": "uq0w-siVf-ea",
        "outputId": "378e56f0-7e09-4749-e8a2-848e175d39e1"
      },
      "execution_count": 96,
      "outputs": [
        {
          "output_type": "stream",
          "name": "stdout",
          "text": [
            "Cora has 7 classes\n",
            "Cora has 1433 features\n"
          ]
        }
      ]
    },
    {
      "cell_type": "markdown",
      "source": [
        "## DeepSNAP Dataset\n",
        "\n",
        "Now, lets talk about DeepSNAP dataset. A `deepsnap.dataset.GraphDataset` contains a list of `deepsnap.graph.Graph` objects. In addition to list of graphs, you can also specify what task the dataset will be used on, such as node level task (`task=node`), edge level task (`task=link_pred`) and graph level task (`task=graph`).\n",
        "\n",
        "It also contains many other useful parameters during initialization and other functinoalities. If you are interested, you can take a look at the [documentation](https://snap.stanford.edu/deepsnap/modules/dataset.html#deepsnap-graphdataset)."
      ],
      "metadata": {
        "id": "InhFl-Iig7Ar"
      }
    },
    {
      "cell_type": "markdown",
      "source": [
        "Lets now use COX2 dataset which contains a list of graphs and specify the task to `graph` when we initialize the DeepSNAP dataset."
      ],
      "metadata": {
        "id": "HesZ-3KEg9m5"
      }
    },
    {
      "cell_type": "code",
      "source": [
        "root = './tmp/cox2'\n",
        "name = 'COX2'\n",
        "\n",
        "# Load the dataset through PyG\n",
        "pyg_dataset = TUDataset(root, name)\n",
        "\n",
        "# Convert to a list of deepsnap graphs\n",
        "graphs = GraphDataset.pyg_to_graphs(pyg_dataset)\n",
        "\n",
        "# Convert list of deepsnap graphs to deepsnap dataset with specified task=graph\n",
        "dataset = GraphDataset(graphs, task='graph')\n",
        "print(dataset)"
      ],
      "metadata": {
        "colab": {
          "base_uri": "https://localhost:8080/"
        },
        "id": "c2sq4IKNgv0s",
        "outputId": "e52693a3-3580-4abb-8162-17dffec50074"
      },
      "execution_count": 97,
      "outputs": [
        {
          "output_type": "stream",
          "name": "stderr",
          "text": [
            "Downloading https://www.chrsmrrs.com/graphkerneldatasets/COX2.zip\n",
            "Extracting tmp/cox2/COX2/COX2.zip\n",
            "Processing...\n",
            "Done!\n"
          ]
        },
        {
          "output_type": "stream",
          "name": "stdout",
          "text": [
            "GraphDataset(467)\n"
          ]
        }
      ]
    },
    {
      "cell_type": "markdown",
      "source": [
        "## Question 2.2: What is the label of the graph (index 100 in the COX2 dataset)? (5 points)\n",
        "\n",
        "Submit your answers on Gradescope."
      ],
      "metadata": {
        "id": "dDww9VPghEzQ"
      }
    },
    {
      "cell_type": "code",
      "source": [
        "def get_graph_class(dataset, idx):\n",
        "  # TODO: Implement this function that takes a deepsnap dataset object,\n",
        "  # the index of the graph in the dataset, and returns the class/label\n",
        "  # of the graph (in integer).\n",
        "\n",
        "  label = -1\n",
        "\n",
        "  ############# Your code here ############\n",
        "  ## (~1 line of code)\n",
        "  ## Note\n",
        "  ## 1. The label refers to the graph-level attribute\n",
        "\n",
        "  label = dataset[idx].graph_label\n",
        "  #########################################\n",
        "\n",
        "  return label\n",
        "\n",
        "graph_0 = dataset[0]\n",
        "print(graph_0)\n",
        "idx = 100\n",
        "label = get_graph_class(dataset, idx)\n",
        "print('Graph with index {} has label {}'.format(idx, label))"
      ],
      "metadata": {
        "colab": {
          "base_uri": "https://localhost:8080/"
        },
        "id": "h07u5lkuhCOe",
        "outputId": "4b159424-0bf2-4d74-da68-6800dc321ccb"
      },
      "execution_count": 98,
      "outputs": [
        {
          "output_type": "stream",
          "name": "stdout",
          "text": [
            "Graph(G=[], edge_index=[2, 82], edge_label_index=[2, 82], graph_label=[1], node_feature=[39, 35], node_label_index=[39], task=[])\n",
            "Graph with index 100 has label tensor([0])\n"
          ]
        }
      ]
    },
    {
      "cell_type": "markdown",
      "source": [
        "## Question 2.3: What is the number of edges for the graph (index 200 in the COX2 dataset)? (5 points)\n",
        "\n",
        "Submit your answers on Gradescope."
      ],
      "metadata": {
        "id": "bAVjp2UzhKFd"
      }
    },
    {
      "cell_type": "code",
      "source": [
        "def get_graph_num_edges(dataset, idx):\n",
        "  # TODO: Implement this function that takes a deepsnap dataset object,\n",
        "  # the index of the graph in dataset, and returns the number of\n",
        "  # edges in the graph (in integer).\n",
        "\n",
        "  num_edges = 0\n",
        "\n",
        "  ############# Your code here ############\n",
        "  ## (~1 lines of code)\n",
        "  ## Note\n",
        "  ## 1. You can use the class property directly\n",
        "\n",
        "  num_edges = dataset[idx].num_edges\n",
        "  #########################################\n",
        "\n",
        "  return num_edges\n",
        "\n",
        "idx = 200\n",
        "num_edges = get_graph_num_edges(dataset, idx)\n",
        "print('Graph with index {} has {} edges'.format(idx, num_edges))\n"
      ],
      "metadata": {
        "colab": {
          "base_uri": "https://localhost:8080/"
        },
        "id": "KXD_54eqhG9H",
        "outputId": "bf73c1dc-4934-4c0f-86d8-0720a4541d28"
      },
      "execution_count": 99,
      "outputs": [
        {
          "output_type": "stream",
          "name": "stdout",
          "text": [
            "Graph with index 200 has 49 edges\n"
          ]
        }
      ]
    },
    {
      "cell_type": "markdown",
      "source": [
        "# 3 DeepSNAP Advanced\n",
        "\n",
        "We have learned the basic use of DeepSNAP graph and dataset :)\n",
        "\n",
        "Lets move on to some more advanced functionalities.\n",
        "\n",
        "In this section we will use DeepSNAP for feature computation and transductive/inductive splittings."
      ],
      "metadata": {
        "id": "EN-7IViNhN5i"
      }
    },
    {
      "cell_type": "markdown",
      "source": [
        "## Setup"
      ],
      "metadata": {
        "id": "gUevq3VrhRxw"
      }
    },
    {
      "cell_type": "code",
      "source": [
        "import torch\n",
        "import networkx as nx\n",
        "import matplotlib.pyplot as plt\n",
        "\n",
        "from deepsnap.graph import Graph\n",
        "from deepsnap.batch import Batch\n",
        "from deepsnap.dataset import GraphDataset\n",
        "from torch_geometric.datasets import Planetoid, TUDataset\n",
        "\n",
        "from torch.utils.data import DataLoader"
      ],
      "metadata": {
        "id": "Os-vh-AThL9Y"
      },
      "execution_count": 100,
      "outputs": []
    },
    {
      "cell_type": "markdown",
      "source": [
        "## Data Split in Graphs\n",
        "\n",
        "Data splitting in graphs can be much harder than that in CV or NLP.\n",
        "\n",
        "In general, the data splitting in graphs can be divided into two settings, **inductive** and **transductive**."
      ],
      "metadata": {
        "id": "Bfe6tdoohUqU"
      }
    },
    {
      "cell_type": "markdown",
      "source": [
        "## Inductive Split\n",
        "\n",
        "As what we have learned in the lecture, inductive setting will split multiple graphs into each training/valiation and test sets.\n",
        "\n",
        "Here is an example of DeepSNAP inductive splitting for a list of graphs in the graph level task (graph classification etc.)"
      ],
      "metadata": {
        "id": "c1xriwfphWdw"
      }
    },
    {
      "cell_type": "code",
      "source": [
        "root = './tmp/cox2'\n",
        "name = 'COX2'\n",
        "\n",
        "pyg_dataset = TUDataset(root, name)\n",
        "\n",
        "graphs = GraphDataset.pyg_to_graphs(pyg_dataset)\n",
        "\n",
        "# Here we specify the task as graph-level task such as graph classification\n",
        "task = 'graph'\n",
        "dataset = GraphDataset(graphs, task=task)\n",
        "\n",
        "# Specify transductive=False (inductive)\n",
        "dataset_train, dataset_val, dataset_test = dataset.split(transductive=False, split_ratio=[0.8, 0.1, 0.1])\n",
        "\n",
        "print(\"COX2 train dataset: {}\".format(dataset_train))\n",
        "print(\"COX2 validation dataset: {}\".format(dataset_val))\n",
        "print(\"COX2 test dataset: {}\".format(dataset_test))"
      ],
      "metadata": {
        "colab": {
          "base_uri": "https://localhost:8080/"
        },
        "id": "X0e88QiJhTJs",
        "outputId": "4afdf959-17f6-4a18-f659-c0e70b6d8742"
      },
      "execution_count": 101,
      "outputs": [
        {
          "output_type": "stream",
          "name": "stdout",
          "text": [
            "COX2 train dataset: GraphDataset(373)\n",
            "COX2 validation dataset: GraphDataset(46)\n",
            "COX2 test dataset: GraphDataset(48)\n"
          ]
        }
      ]
    },
    {
      "cell_type": "markdown",
      "source": [
        "## Transductive Split\n",
        "\n",
        "In transductive setting, the training /validation / test sets are on the same graph.\n",
        "\n",
        "Here we transductively split the CORA graph in the node level task.\n",
        "\n",
        "(Notice that in DeepSNAP default setting the split is random, but you can also make a fixed split by specifying `fixed_split=True` when loading the dataset from PyG or changing the `node_label_index` directly)."
      ],
      "metadata": {
        "id": "OfpWuoREhd3B"
      }
    },
    {
      "cell_type": "code",
      "source": [
        "root = './tmp/cora'\n",
        "name = 'Cora'\n",
        "\n",
        "pyg_dataset = Planetoid(root, name)\n",
        "\n",
        "graphs = GraphDataset.pyg_to_graphs(pyg_dataset)\n",
        "\n",
        "# Here we specify the task as node-level task such as node classification\n",
        "task = 'node'\n",
        "\n",
        "dataset = GraphDataset(graphs, task=task)\n",
        "\n",
        "# Specify we want the transductive splitting\n",
        "dataset_train, dataset_val, dataset_test = dataset.split(transductive=True, split_ratio=[0.8, 0.1, 0.1])\n",
        "\n",
        "print(\"Cora train dataset: {}\".format(dataset_train))\n",
        "print(\"Cora validation dataset: {}\".format(dataset_val))\n",
        "print(\"Cora test dataset: {}\".format(dataset_test))\n",
        "\n",
        "print(\"Original Cora has {} nodes\".format(dataset.num_nodes[0]))\n",
        "\n",
        "# The nodes in each set can be find in node_label_index\n",
        "print(\"After the split, Cora has {} training nodes\".format(dataset_train[0].node_label_index.shape[0]))\n",
        "print(\"After the split, Cora has {} validation nodes\".format(dataset_val[0].node_label_index.shape[0]))\n",
        "print(\"After the split, Cora has {} test nodes\".format(dataset_test[0].node_label_index.shape[0]))"
      ],
      "metadata": {
        "colab": {
          "base_uri": "https://localhost:8080/"
        },
        "id": "vlmNbD_rhZSG",
        "outputId": "991d5782-03c6-4a09-dea8-2000a1a99fd6"
      },
      "execution_count": 102,
      "outputs": [
        {
          "output_type": "stream",
          "name": "stdout",
          "text": [
            "Cora train dataset: GraphDataset(1)\n",
            "Cora validation dataset: GraphDataset(1)\n",
            "Cora test dataset: GraphDataset(1)\n",
            "Original Cora has 2708 nodes\n",
            "After the split, Cora has 2166 training nodes\n",
            "After the split, Cora has 270 validation nodes\n",
            "After the split, Cora has 272 test nodes\n"
          ]
        }
      ]
    },
    {
      "cell_type": "markdown",
      "source": [
        "## Edge Level Split\n",
        "\n",
        "Compared to the node and graph level splitting, edge level splitting is a little bit tricky ;)\n",
        "\n",
        "Usually in edge level splitting, we need to sample negative edges, split positive edges into different datasets, split training edges into message passing edges and supervision edges, and resample the negative edges during the training etc."
      ],
      "metadata": {
        "id": "MhRUrQ26j_5e"
      }
    },
    {
      "cell_type": "markdown",
      "source": [
        "### All Mode\n",
        "\n",
        "Now lets start with a simpler edge level splitting mode, the `edge_train_mode=\"all\"` mode in DeepSNAP."
      ],
      "metadata": {
        "id": "isND7UhjkBxx"
      }
    },
    {
      "cell_type": "code",
      "source": [
        "root = './tmp/cora'\n",
        "name = 'Cora'\n",
        "\n",
        "pyg_dataset = Planetoid(root, name)\n",
        "\n",
        "graphs = GraphDataset.pyg_to_graphs(pyg_dataset)\n",
        "\n",
        "# Specify task as link_pred for edge-level task\n",
        "task = 'link_pred'\n",
        "\n",
        "# Specify the train mode, \"all\" mode is default for deepsnap dataset\n",
        "edge_train_mode = \"all\"\n",
        "\n",
        "dataset = GraphDataset(graphs, task=task, edge_train_mode=edge_train_mode)\n",
        "\n",
        "# Transductive link prediction split\n",
        "dataset_train, dataset_val, dataset_test = dataset.split(transductive=True, split_ratio=[0.8, 0.1, 0.1])\n",
        "\n",
        "print(\"Cora train dataset: {}\".format(dataset_train))\n",
        "print(\"Cora validation dataset: {}\".format(dataset_val))\n",
        "print(\"Cora test dataset: {}\".format(dataset_test))"
      ],
      "metadata": {
        "colab": {
          "base_uri": "https://localhost:8080/"
        },
        "id": "zuZoNbEDhgOD",
        "outputId": "cdc14c99-7b5a-4001-ab7e-4656be34312f"
      },
      "execution_count": 103,
      "outputs": [
        {
          "output_type": "stream",
          "name": "stdout",
          "text": [
            "Cora train dataset: GraphDataset(1)\n",
            "Cora validation dataset: GraphDataset(1)\n",
            "Cora test dataset: GraphDataset(1)\n"
          ]
        }
      ]
    },
    {
      "cell_type": "markdown",
      "source": [
        "In DeepSNAP, the indices of supervision edges are stored in `edge_label_index` tensor and the corresponding edge labels are stored in `edge_label` tensor."
      ],
      "metadata": {
        "id": "j-CpVzJAkE28"
      }
    },
    {
      "cell_type": "code",
      "source": [
        "print(\"Original Cora graph has {} edges\".format(dataset[0].num_edges))\n",
        "print(\"Because Cora graph is undirected, the original edge_index has shape {}\".format(dataset[0].edge_index.shape))\n",
        "\n",
        "print(\"The training set has message passing edge index shape {}\".format(dataset_train[0].edge_index.shape))\n",
        "print(\"The training set has supervision edge index shape {}\".format(dataset_train[0].edge_label_index.shape))\n",
        "\n",
        "print(\"The validation set has message passing edge index shape {}\".format(dataset_val[0].edge_index.shape))\n",
        "print(\"The validation set has supervision edge index shape {}\".format(dataset_val[0].edge_label_index.shape))\n",
        "\n",
        "print(\"The test set has message passing edge index shape {}\".format(dataset_test[0].edge_index.shape))\n",
        "print(\"The test set has supervision edge index shape {}\".format(dataset_test[0].edge_label_index.shape))"
      ],
      "metadata": {
        "colab": {
          "base_uri": "https://localhost:8080/"
        },
        "id": "owUzd2fSkDF2",
        "outputId": "30707a18-8259-4ec6-ec28-56c059857847"
      },
      "execution_count": 104,
      "outputs": [
        {
          "output_type": "stream",
          "name": "stdout",
          "text": [
            "Original Cora graph has 5278 edges\n",
            "Because Cora graph is undirected, the original edge_index has shape torch.Size([2, 10556])\n",
            "The training set has message passing edge index shape torch.Size([2, 8444])\n",
            "The training set has supervision edge index shape torch.Size([2, 16888])\n",
            "The validation set has message passing edge index shape torch.Size([2, 8444])\n",
            "The validation set has supervision edge index shape torch.Size([2, 2108])\n",
            "The test set has message passing edge index shape torch.Size([2, 9498])\n",
            "The test set has supervision edge index shape torch.Size([2, 2116])\n"
          ]
        }
      ]
    },
    {
      "cell_type": "markdown",
      "source": [
        "We can see that both training and validation sets have the same message passing edges (`edge_index`) in the `all` mode. Also, in training set, the postive supervision edges (`edge_label_index`) are same with the message passing edges. However, in the test set the message passing edges are the combination of message passing edges from training and validation sets.\n",
        "\n",
        "Notice that the `edge_label` and `edge_label_index` have included the negative edges (default number of negative edges is same with the number of positive edges).\n",
        "\n",
        "Now, lets implement a function that checks whether two edge index tensors are disjoint and explore more edge splitting properties by using that function."
      ],
      "metadata": {
        "id": "uVwS7tp5kH9D"
      }
    },
    {
      "cell_type": "markdown",
      "source": [
        "## Question 3.1 - 3.5: Implement the function that checks whether two edge_index tensors are disjoint. Then answer the True/False questions below. (5 points)\n",
        "\n",
        "Submit your answers on Gradescope."
      ],
      "metadata": {
        "id": "1tcqgw8YkJ5n"
      }
    },
    {
      "cell_type": "code",
      "source": [
        "def edge_indices_disjoint(edge_index_1, edge_index_2):\n",
        "  # TODO: Implement this function that takes two edge index tensors,\n",
        "  # and returns whether these two edge index tensors are disjoint.\n",
        "  disjoint = None\n",
        "\n",
        "  ############# Your code here ############\n",
        "  ## (~5 lines of code)\n",
        "  ## Note\n",
        "  ## 1. Here disjoint means that there is no single edge belongs to either edge index tensors\n",
        "  ## 2. You do not need to consider the undirected case. For example, if edge_index_1 contains\n",
        "  ## edge (a, b) and edge_index_2 contains edge (b, a). We will treat them as disjoint in this\n",
        "  ## function.\n",
        "  disjoint = True\n",
        "  edge_set_1 = set([t for t in edge_index_1.reshape(-1, 2)])\n",
        "  for t in edge_index_2.reshape(-1, 2):\n",
        "      if t in edge_set_1:\n",
        "          disjoint = False\n",
        "          break\n",
        "  #########################################\n",
        "\n",
        "  return disjoint"
      ],
      "metadata": {
        "id": "j-8QK2RlkGA6"
      },
      "execution_count": 105,
      "outputs": []
    },
    {
      "cell_type": "code",
      "source": [
        "num_train_edges = dataset_train[0].edge_label_index.shape[1] // 2\n",
        "train_pos_edge_index = dataset_train[0].edge_label_index[:, :num_train_edges]\n",
        "train_neg_edge_index = dataset_train[0].edge_label_index[:, num_train_edges:]\n",
        "print(\"3.1 Training (supervision) positve and negative edges are disjoint = {}\"\\\n",
        "        .format(edge_indices_disjoint(train_pos_edge_index, train_neg_edge_index)))\n",
        "\n",
        "num_val_edges = dataset_val[0].edge_label_index.shape[1] // 2\n",
        "val_pos_edge_index = dataset_val[0].edge_label_index[:, :num_val_edges]\n",
        "val_neg_edge_index = dataset_val[0].edge_label_index[:, num_val_edges:]\n",
        "print(\"3.2 Validation (supervision) positve and negative edges are disjoint = {}\"\\\n",
        "        .format(edge_indices_disjoint(val_pos_edge_index, val_neg_edge_index)))\n",
        "\n",
        "num_test_edges = dataset_test[0].edge_label_index.shape[1] // 2\n",
        "test_pos_edge_index = dataset_test[0].edge_label_index[:, :num_test_edges]\n",
        "test_neg_edge_index = dataset_test[0].edge_label_index[:, num_test_edges:]\n",
        "print(\"3.3 Test (supervision) positve and negative edges are disjoint = {}\"\\\n",
        "        .format(edge_indices_disjoint(test_pos_edge_index, test_neg_edge_index)))\n",
        "\n",
        "print(\"3.4 Test (supervision) positve and validation (supervision) positve edges are disjoint = {}\"\\\n",
        "        .format(edge_indices_disjoint(test_pos_edge_index, val_pos_edge_index)))\n",
        "print(\"3.5 Validation (supervision) positve and training (supervision) positve edges are disjoint = {}\"\\\n",
        "        .format(edge_indices_disjoint(val_pos_edge_index, train_pos_edge_index)))"
      ],
      "metadata": {
        "colab": {
          "base_uri": "https://localhost:8080/"
        },
        "id": "J7WrntbskLPy",
        "outputId": "5015dd7e-52d5-4e3e-de20-07339af35817"
      },
      "execution_count": 106,
      "outputs": [
        {
          "output_type": "stream",
          "name": "stdout",
          "text": [
            "3.1 Training (supervision) positve and negative edges are disjoint = True\n",
            "3.2 Validation (supervision) positve and negative edges are disjoint = True\n",
            "3.3 Test (supervision) positve and negative edges are disjoint = True\n",
            "3.4 Test (supervision) positve and validation (supervision) positve edges are disjoint = True\n",
            "3.5 Validation (supervision) positve and training (supervision) positve edges are disjoint = True\n"
          ]
        }
      ]
    },
    {
      "cell_type": "markdown",
      "source": [
        "### Disjoint Mode\n",
        "\n",
        "Now lets look at a relatively more complex transductive edge split setting, which is the `edge_train_mode=\"disjoint\"` mode in DeepSNAP (also the transductive link prediction splitting talked in the lecture)"
      ],
      "metadata": {
        "id": "9LIuUN08kPKJ"
      }
    },
    {
      "cell_type": "code",
      "source": [
        "edge_train_mode = \"disjoint\"\n",
        "\n",
        "dataset = GraphDataset(graphs, task='link_pred', edge_train_mode=edge_train_mode)\n",
        "orig_edge_index = dataset[0].edge_index\n",
        "dataset_train, dataset_val, dataset_test = dataset.split(\n",
        "    transductive=True, split_ratio=[0.8, 0.1, 0.1])\n",
        "\n",
        "train_message_edge_index = dataset_train[0].edge_index\n",
        "train_sup_edge_index = dataset_train[0].edge_label_index\n",
        "val_sup_edge_index = dataset_val[0].edge_label_index\n",
        "test_sup_edge_index = dataset_test[0].edge_label_index\n",
        "\n",
        "print(\"The edge index of original graph has shape: {}\".format(orig_edge_index.shape))\n",
        "print(\"The edge index of training message edges has shape: {}\".format(train_message_edge_index.shape))\n",
        "print(\"The edge index of training supervision edges has shape: {}\".format(train_sup_edge_index.shape))\n",
        "print(\"The edge index of validation message edges has shape: {}\".format(dataset_val[0].edge_index.shape))\n",
        "print(\"The edge index of validation supervision edges has shape: {}\".format(val_sup_edge_index.shape))\n",
        "print(\"The edge index of test message edges has shape: {}\".format(dataset_test[0].edge_index.shape))\n",
        "print(\"The edge index of test supervision edges has shape: {}\".format(test_sup_edge_index.shape))"
      ],
      "metadata": {
        "colab": {
          "base_uri": "https://localhost:8080/"
        },
        "id": "MQ_lUemikNDI",
        "outputId": "2db1146b-b509-450a-89f7-abe98d9c6ce7"
      },
      "execution_count": 107,
      "outputs": [
        {
          "output_type": "stream",
          "name": "stdout",
          "text": [
            "The edge index of original graph has shape: torch.Size([2, 10556])\n",
            "The edge index of training message edges has shape: torch.Size([2, 6754])\n",
            "The edge index of training supervision edges has shape: torch.Size([2, 3380])\n",
            "The edge index of validation message edges has shape: torch.Size([2, 8444])\n",
            "The edge index of validation supervision edges has shape: torch.Size([2, 2108])\n",
            "The edge index of test message edges has shape: torch.Size([2, 9498])\n",
            "The edge index of test supervision edges has shape: torch.Size([2, 2116])\n"
          ]
        }
      ]
    },
    {
      "cell_type": "markdown",
      "source": [
        "You can see that the training / validation message passing edges and training supervision edges are splitted differently in those two modes!"
      ],
      "metadata": {
        "id": "VkqOpmffkSe8"
      }
    },
    {
      "cell_type": "markdown",
      "source": [
        "### Resample Negative Edges\n",
        "\n",
        "During each training iteration, we usually need to resample the negative edges.\n",
        "\n",
        "Below we print the training and validation sets negative edges in two training iterations.\n",
        "\n",
        "You should find that the negative edges in training set will be resampled."
      ],
      "metadata": {
        "id": "8UTNmXVokUNG"
      }
    },
    {
      "cell_type": "code",
      "source": [
        "dataset = GraphDataset(graphs, task='link_pred', edge_train_mode=\"disjoint\")\n",
        "datasets = {}\n",
        "follow_batch = []\n",
        "datasets['train'], datasets['val'], datasets['test'] = dataset.split(\n",
        "    transductive=True, split_ratio=[0.8, 0.1, 0.1])\n",
        "dataloaders = {\n",
        "  split: DataLoader(\n",
        "    ds, collate_fn=Batch.collate(follow_batch),\n",
        "    batch_size=1, shuffle=(split=='train')\n",
        "  )\n",
        "  for split, ds in datasets.items()\n",
        "}\n",
        "neg_edges_1 = None\n",
        "for batch in dataloaders['train']:\n",
        "  num_edges = batch.edge_label_index.shape[1] // 2\n",
        "  neg_edges_1 = batch.edge_label_index[:, num_edges:]\n",
        "  print(\"First iteration training negative edges:\")\n",
        "  print(neg_edges_1)\n",
        "  break\n",
        "neg_edges_2 = None\n",
        "for batch in dataloaders['train']:\n",
        "  num_edges = batch.edge_label_index.shape[1] // 2\n",
        "  neg_edges_2 = batch.edge_label_index[:, num_edges:]\n",
        "  print(\"Second iteration training negative edges:\")\n",
        "  print(neg_edges_2)\n",
        "  break\n",
        "\n",
        "neg_edges_1 = None\n",
        "for batch in dataloaders['val']:\n",
        "  num_edges = batch.edge_label_index.shape[1] // 2\n",
        "  neg_edges_1 = batch.edge_label_index[:, num_edges:]\n",
        "  print(\"First iteration validation negative edges:\")\n",
        "  print(neg_edges_1)\n",
        "  break\n",
        "neg_edges_2 = None\n",
        "for batch in dataloaders['val']:\n",
        "  num_edges = batch.edge_label_index.shape[1] // 2\n",
        "  neg_edges_2 = batch.edge_label_index[:, num_edges:]\n",
        "  print(\"Second iteration validation negative edges:\")\n",
        "  print(neg_edges_2)\n",
        "  break"
      ],
      "metadata": {
        "colab": {
          "base_uri": "https://localhost:8080/"
        },
        "id": "OcgTd2FCkQks",
        "outputId": "d40eff89-81a9-4343-9aec-5ee381de3880"
      },
      "execution_count": 108,
      "outputs": [
        {
          "output_type": "stream",
          "name": "stdout",
          "text": [
            "First iteration training negative edges:\n",
            "tensor([[ 424,  277,  964,  ..., 2553, 1013, 1827],\n",
            "        [2377, 1287, 1284,  ..., 2382, 2635, 1769]])\n",
            "Second iteration training negative edges:\n",
            "tensor([[2033,  294, 1099,  ...,  737, 1051,  106],\n",
            "        [2088,  521, 1760,  ..., 1233, 1555, 2669]])\n",
            "First iteration validation negative edges:\n",
            "tensor([[ 753,  459, 1615,  ..., 2529, 1214, 1147],\n",
            "        [2424, 2647, 1289,  ..., 2625, 2280, 2670]])\n",
            "Second iteration validation negative edges:\n",
            "tensor([[ 753,  459, 1615,  ..., 2529, 1214, 1147],\n",
            "        [2424, 2647, 1289,  ..., 2625, 2280, 2670]])\n"
          ]
        }
      ]
    },
    {
      "cell_type": "markdown",
      "source": [
        "If you are interested in more graph splitting settings, please refer to the DeepSNAP dataset [documentation](https://snap.stanford.edu/deepsnap/modules/dataset.html)."
      ],
      "metadata": {
        "id": "20eLtOfOkYJs"
      }
    },
    {
      "cell_type": "markdown",
      "source": [
        "## Graph Transformation and Feature Computation\n",
        "\n",
        "The other DeepSNAP core functionality is graph transformation / feature computation.\n",
        "\n",
        "In DeepSNAP, we divide graph transformation / feature computation into two different types. One is the transformation before training (transform the whole dataset before training directly) and another one is the transformation during training (transform batches of graphs).\n",
        "\n",
        "Here is an example that uses NetworkX back end to calculate the PageRank value and update the value to tensors before the training (transform the dataset)."
      ],
      "metadata": {
        "id": "0e49Qp0Qkafb"
      }
    },
    {
      "cell_type": "code",
      "source": [
        "def pagerank_transform_fn(graph):\n",
        "\n",
        "  # Get the referenced networkx graph\n",
        "  G = graph.G\n",
        "\n",
        "  # Calculate the pagerank by using networkx\n",
        "  pr = nx.pagerank(G)\n",
        "\n",
        "  # Transform the pagerank values to tensor\n",
        "  pr_feature = torch.tensor([pr[node] for node in range(graph.num_nodes)], dtype=torch.float32)\n",
        "  pr_feature = pr_feature.view(graph.num_nodes, 1)\n",
        "\n",
        "  # Concat the pagerank values to the node feature\n",
        "  graph.node_feature = torch.cat([graph.node_feature, pr_feature], dim=-1)\n",
        "\n",
        "root = './tmp/cox2'\n",
        "name = 'COX2'\n",
        "pyg_dataset = TUDataset(root, name)\n",
        "graphs = GraphDataset.pyg_to_graphs(pyg_dataset)\n",
        "dataset = GraphDataset(graphs, task='graph')\n",
        "print(\"Number of features before transformation: {}\".format(dataset.num_node_features))\n",
        "dataset.apply_transform(pagerank_transform_fn, update_tensor=False)\n",
        "print(\"Number of features after transformation: {}\".format(dataset.num_node_features))"
      ],
      "metadata": {
        "colab": {
          "base_uri": "https://localhost:8080/"
        },
        "id": "4yJRR8h5kVuP",
        "outputId": "d3640896-3898-4feb-a870-51c95a11b102"
      },
      "execution_count": 109,
      "outputs": [
        {
          "output_type": "stream",
          "name": "stdout",
          "text": [
            "Number of features before transformation: 35\n",
            "Number of features after transformation: 36\n"
          ]
        }
      ]
    },
    {
      "cell_type": "markdown",
      "source": [
        "## Question 3.6: Implement the transformation below and report the clustering coefficient of the node (index 3) of the graph (index 406) in the COX2 dataset. Rounded the answer to two decimal places. (5 points)"
      ],
      "metadata": {
        "id": "SBZf6LzZkmUM"
      }
    },
    {
      "cell_type": "code",
      "source": [
        "def cluster_transform_fn(graph):\n",
        "  # TODO: Implement this function that takes an deepsnap graph object,\n",
        "  # transform the graph by adding nodes clustering coefficient into the\n",
        "  # graph.node_feature\n",
        "\n",
        "  ############# Your code here ############\n",
        "  ## (~5 lines of code)\n",
        "  ## Note\n",
        "  ## 1. Compute the clustering coefficient value for each node and\n",
        "  ## concat them to the last dimension of graph.node_feature\n",
        "\n",
        "  # Get the referenced networkx graph\n",
        "  G = graph.G\n",
        "\n",
        "  # Calculate the clustering coefficient by using networkx\n",
        "  cc = nx.clustering(G)\n",
        "\n",
        "  # Transform the clustering coefficient values to tensor\n",
        "  cc_feature = torch.tensor([cc[node] for node in range(graph.num_nodes)], dtype=torch.float32)\n",
        "  cc_feature = cc_feature.view(graph.num_nodes, 1)\n",
        "\n",
        "  # Concat the pagerank values to the node feature\n",
        "  graph.node_feature = torch.cat([graph.node_feature, cc_feature], dim=-1)\n",
        "\n",
        "  #########################################\n",
        "\n",
        "root = './cox2'\n",
        "name = 'COX2'\n",
        "pyg_dataset = TUDataset(root, name)\n",
        "graphs = GraphDataset.pyg_to_graphs(pyg_dataset)\n",
        "dataset = GraphDataset(graphs, task='graph')\n",
        "\n",
        "# Transform the dataset\n",
        "dataset.apply_transform(cluster_transform_fn, update_tensor=False)\n",
        "\n",
        "node_idx = 3\n",
        "graph_idx = 406\n",
        "node_feature = dataset[graph_idx].node_feature\n",
        "\n",
        "print(\"The node has clustering coefficient: {}\".format(round(node_feature[node_idx][-1].item(), 2)))"
      ],
      "metadata": {
        "colab": {
          "base_uri": "https://localhost:8080/"
        },
        "id": "mFr4AH0CkjU0",
        "outputId": "04864964-7c22-4505-a249-2b3e2e698feb"
      },
      "execution_count": 110,
      "outputs": [
        {
          "output_type": "stream",
          "name": "stderr",
          "text": [
            "Downloading https://www.chrsmrrs.com/graphkerneldatasets/COX2.zip\n",
            "Extracting cox2/COX2/COX2.zip\n",
            "Processing...\n",
            "Done!\n"
          ]
        },
        {
          "output_type": "stream",
          "name": "stdout",
          "text": [
            "The node has clustering coefficient: 0.17\n"
          ]
        }
      ]
    },
    {
      "cell_type": "markdown",
      "source": [
        "Apart from transforming the dataset, DeepSNAP can also transform the graph (usually the `deepsnap.batch.Batch`) during each training iteration.\n",
        "\n",
        "Also, DeepSNAP supports the synchronization of the transformation between the referenced graph objects and tensor representations. For example, you can just update the NetworkX graph object in the transform function, and by specifying `update_tensor=True` the internal tensor representations will be automatically updated.\n",
        "\n",
        "For more information, please refer to the DeepSNAP [documentation](https://snap.stanford.edu/deepsnap/)."
      ],
      "metadata": {
        "id": "zzoA6cThkuEY"
      }
    },
    {
      "cell_type": "markdown",
      "source": [
        "# 4 Edge Level Prediction\n",
        "\n",
        "From last section, we know how DeepSNAP transductive split the edges in the link prediction task.\n",
        "\n",
        "Now lets use DeepSNAP and PyG together to implement a edge level prediction (link prediction) model!"
      ],
      "metadata": {
        "id": "GTxQ3YZ3kwVP"
      }
    },
    {
      "cell_type": "code",
      "source": [
        "import copy\n",
        "import torch\n",
        "import numpy as np\n",
        "import networkx as nx\n",
        "import matplotlib.pyplot as plt\n",
        "\n",
        "from deepsnap.graph import Graph\n",
        "from deepsnap.batch import Batch\n",
        "from deepsnap.dataset import GraphDataset\n",
        "from torch_geometric.datasets import Planetoid, TUDataset\n",
        "\n",
        "from torch.utils.data import DataLoader\n",
        "\n",
        "import torch.nn.functional as F\n",
        "from torch_geometric.nn import SAGEConv\n",
        "\n",
        "class LinkPredModel(torch.nn.Module):\n",
        "    def __init__(self, input_dim, hidden_dim, num_classes, dropout=0.2):\n",
        "        super(LinkPredModel, self).__init__()\n",
        "\n",
        "        self.conv1 = SAGEConv(input_dim, hidden_dim)\n",
        "        self.conv2 = SAGEConv(hidden_dim, num_classes)\n",
        "\n",
        "        self.loss_fn = None\n",
        "\n",
        "        ############# Your code here #############\n",
        "        ## (~1 line of code)\n",
        "        ## Note\n",
        "        ## 1. Initialize the loss function to BCEWithLogitsLoss\n",
        "        self.loss_fn = nn.BCEWithLogitsLoss()\n",
        "\n",
        "        ##########################################\n",
        "\n",
        "        self.dropout = dropout\n",
        "\n",
        "    def reset_parameters(self):\n",
        "        self.conv1.reset_parameters()\n",
        "        self.conv2.reset_parameters()\n",
        "\n",
        "    def forward(self, batch):\n",
        "        node_feature, edge_index, edge_label_index = batch.node_feature, batch.edge_index, batch.edge_label_index\n",
        "        ############# Your code here #############\n",
        "        ## (~6 line of code)\n",
        "        ## Note\n",
        "        ## 1. Feed the node feature into the first conv layer\n",
        "        ## 2. Add a ReLU after the first conv layer\n",
        "        ## 3. Add dropout after the ReLU (with probability self.dropout)\n",
        "        ## 4. Feed the output to the second conv layer\n",
        "        ## 5. Select the embeddings of the source nodes and destination nodes\n",
        "        ## by using the edge_label_index and compute the similarity of each pair\n",
        "        ## by dot product\n",
        "        out = self.conv1(node_feature, edge_index)\n",
        "        out = F.relu(out)\n",
        "        out = F.dropout(out, p=self.dropout)\n",
        "        out = self.conv2(out, edge_index)\n",
        "        out = out[edge_label_index[0]] * out[edge_label_index[1]]\n",
        "        pred = torch.sum(out, -1)\n",
        "        ##########################################\n",
        "\n",
        "        return pred\n",
        "\n",
        "    def loss(self, pred, link_label):\n",
        "        return self.loss_fn(pred, link_label)"
      ],
      "metadata": {
        "id": "3Nca12JNkqTO"
      },
      "execution_count": 111,
      "outputs": []
    },
    {
      "cell_type": "code",
      "source": [
        "from sklearn.metrics import *\n",
        "\n",
        "def train(model, dataloaders, optimizer, args):\n",
        "    val_max = 0\n",
        "    best_model = model\n",
        "\n",
        "    for epoch in range(1, args[\"epochs\"]):\n",
        "        for i, batch in enumerate(dataloaders['train']):\n",
        "\n",
        "            batch.to(args[\"device\"])\n",
        "\n",
        "            ############# Your code here #############\n",
        "            ## (~6 lines of code)\n",
        "            ## Note\n",
        "            ## 1. Zero grad the optimizer\n",
        "            ## 2. Compute loss and backpropagate\n",
        "            ## 3. Update the model parameters\n",
        "            optimizer.zero_grad()\n",
        "            pred = model(batch)\n",
        "            loss = model.loss(pred, batch.edge_label.float())\n",
        "            loss.backward()\n",
        "            optimizer.step()\n",
        "\n",
        "            ##########################################\n",
        "\n",
        "            log = 'Epoch: {:03d}, Train: {:.4f}, Val: {:.4f}, Test: {:.4f}, Loss: {}'\n",
        "            score_train = test(model, dataloaders['train'], args)\n",
        "            score_val = test(model, dataloaders['val'], args)\n",
        "            score_test = test(model, dataloaders['test'], args)\n",
        "\n",
        "            print(log.format(epoch, score_train, score_val, score_test, loss.item()))\n",
        "            if val_max < score_val:\n",
        "                val_max = score_val\n",
        "                best_model = copy.deepcopy(model)\n",
        "    return best_model\n",
        "\n",
        "def test(model, dataloader, args):\n",
        "    model.eval()\n",
        "\n",
        "    score = 0\n",
        "\n",
        "    ############# Your code here #############\n",
        "    ## (~5 lines of code)\n",
        "    ## Note\n",
        "    ## 1. Loop through batches in the dataloader\n",
        "    ## 2. Feed the batch to the model\n",
        "    ## 3. Feed the model output to sigmoid\n",
        "    ## 4. Compute the ROC-AUC score by using sklearn roc_auc_score function\n",
        "    ## 5. Edge labels are stored in batch.edge_label\n",
        "    for i, batch in enumerate(dataloaders['test']):\n",
        "        batch.to(args[\"device\"])\n",
        "        pred = model(batch)\n",
        "        pred = torch.sigmoid(pred)\n",
        "        score += roc_auc_score(batch.edge_label.cpu().detach().numpy(), pred.cpu().detach().numpy())\n",
        "    score /= len(dataloaders['test'])\n",
        "    ##########################################\n",
        "\n",
        "    return score"
      ],
      "metadata": {
        "id": "wt-x29Rgkyoy"
      },
      "execution_count": 112,
      "outputs": []
    },
    {
      "cell_type": "code",
      "source": [
        "# Please don't change any parameters\n",
        "args = {\n",
        "    \"device\" : 'cuda' if torch.cuda.is_available() else 'cpu',\n",
        "    \"hidden_dim\" : 128,\n",
        "    \"epochs\" : 200,\n",
        "}"
      ],
      "metadata": {
        "id": "A97bkaJSk2EV"
      },
      "execution_count": 113,
      "outputs": []
    },
    {
      "cell_type": "code",
      "source": [
        "pyg_dataset = Planetoid('./tmp/cora', 'Cora')\n",
        "graphs = GraphDataset.pyg_to_graphs(pyg_dataset)\n",
        "\n",
        "dataset = GraphDataset(\n",
        "        graphs,\n",
        "        task='link_pred',\n",
        "        edge_train_mode=\"disjoint\"\n",
        "    )\n",
        "datasets = {}\n",
        "datasets['train'], datasets['val'], datasets['test']= dataset.split(\n",
        "            transductive=True, split_ratio=[0.85, 0.05, 0.1])\n",
        "input_dim = datasets['train'].num_node_features\n",
        "num_classes = datasets['train'].num_edge_labels\n",
        "\n",
        "model = LinkPredModel(input_dim, args[\"hidden_dim\"], num_classes).to(args[\"device\"])\n",
        "model.reset_parameters()\n",
        "\n",
        "optimizer = torch.optim.SGD(model.parameters(), lr=0.1, momentum=0.9, weight_decay=5e-4)\n",
        "\n",
        "dataloaders = {split: DataLoader(\n",
        "            ds, collate_fn=Batch.collate([]),\n",
        "            batch_size=1, shuffle=(split=='train'))\n",
        "            for split, ds in datasets.items()}\n",
        "best_model = train(model, dataloaders, optimizer, args)\n",
        "log = \"Train: {:.4f}, Val: {:.4f}, Test: {:.4f}\"\n",
        "best_train_roc = test(best_model, dataloaders['train'], args)\n",
        "best_val_roc = test(best_model, dataloaders['val'], args)\n",
        "best_test_roc = test(best_model, dataloaders['test'], args)\n",
        "print(log.format(best_train_roc, best_val_roc, best_test_roc))"
      ],
      "metadata": {
        "colab": {
          "base_uri": "https://localhost:8080/"
        },
        "id": "-iSl24UOk4Zd",
        "outputId": "55597879-955c-4955-9a35-7297a70252f8"
      },
      "execution_count": 114,
      "outputs": [
        {
          "output_type": "stream",
          "name": "stdout",
          "text": [
            "Epoch: 001, Train: 0.5342, Val: 0.5539, Test: 0.5630, Loss: 0.6929836869239807\n",
            "Epoch: 002, Train: 0.5561, Val: 0.5580, Test: 0.5524, Loss: 0.6929710507392883\n",
            "Epoch: 003, Train: 0.5428, Val: 0.5632, Test: 0.5444, Loss: 0.6929904818534851\n",
            "Epoch: 004, Train: 0.5396, Val: 0.5465, Test: 0.5542, Loss: 0.6929998397827148\n",
            "Epoch: 005, Train: 0.5565, Val: 0.5648, Test: 0.5491, Loss: 0.6929726004600525\n",
            "Epoch: 006, Train: 0.5429, Val: 0.5352, Test: 0.5486, Loss: 0.6929844617843628\n",
            "Epoch: 007, Train: 0.5573, Val: 0.5592, Test: 0.5663, Loss: 0.6930215358734131\n",
            "Epoch: 008, Train: 0.5434, Val: 0.5365, Test: 0.5653, Loss: 0.6930027008056641\n",
            "Epoch: 009, Train: 0.5474, Val: 0.5715, Test: 0.5596, Loss: 0.6929903030395508\n",
            "Epoch: 010, Train: 0.5568, Val: 0.5634, Test: 0.5663, Loss: 0.6929798722267151\n",
            "Epoch: 011, Train: 0.5623, Val: 0.5595, Test: 0.5633, Loss: 0.6929196715354919\n",
            "Epoch: 012, Train: 0.5617, Val: 0.5517, Test: 0.5636, Loss: 0.6929956078529358\n",
            "Epoch: 013, Train: 0.5640, Val: 0.5501, Test: 0.5610, Loss: 0.6929166913032532\n",
            "Epoch: 014, Train: 0.5477, Val: 0.5793, Test: 0.5592, Loss: 0.6928752064704895\n",
            "Epoch: 015, Train: 0.5576, Val: 0.5474, Test: 0.5576, Loss: 0.6928540468215942\n",
            "Epoch: 016, Train: 0.5506, Val: 0.5685, Test: 0.5624, Loss: 0.6928977966308594\n",
            "Epoch: 017, Train: 0.5566, Val: 0.5691, Test: 0.5640, Loss: 0.6928575038909912\n",
            "Epoch: 018, Train: 0.5658, Val: 0.5597, Test: 0.5624, Loss: 0.6928995251655579\n",
            "Epoch: 019, Train: 0.5636, Val: 0.5557, Test: 0.5693, Loss: 0.6928064227104187\n",
            "Epoch: 020, Train: 0.5559, Val: 0.5535, Test: 0.5490, Loss: 0.6927671432495117\n",
            "Epoch: 021, Train: 0.5640, Val: 0.5441, Test: 0.5730, Loss: 0.6928905248641968\n",
            "Epoch: 022, Train: 0.5825, Val: 0.5646, Test: 0.5743, Loss: 0.6927680969238281\n",
            "Epoch: 023, Train: 0.5553, Val: 0.5679, Test: 0.5693, Loss: 0.6927034258842468\n",
            "Epoch: 024, Train: 0.5601, Val: 0.5570, Test: 0.5758, Loss: 0.692704439163208\n",
            "Epoch: 025, Train: 0.5608, Val: 0.5901, Test: 0.5510, Loss: 0.6926667094230652\n",
            "Epoch: 026, Train: 0.5757, Val: 0.5646, Test: 0.5800, Loss: 0.6927182078361511\n",
            "Epoch: 027, Train: 0.5535, Val: 0.5599, Test: 0.5725, Loss: 0.6926093101501465\n",
            "Epoch: 028, Train: 0.5752, Val: 0.5642, Test: 0.5675, Loss: 0.6925156712532043\n",
            "Epoch: 029, Train: 0.5644, Val: 0.5841, Test: 0.5620, Loss: 0.6925367116928101\n",
            "Epoch: 030, Train: 0.5692, Val: 0.5808, Test: 0.5649, Loss: 0.6924670934677124\n",
            "Epoch: 031, Train: 0.5636, Val: 0.5727, Test: 0.5822, Loss: 0.6924437880516052\n",
            "Epoch: 032, Train: 0.5716, Val: 0.5677, Test: 0.5667, Loss: 0.6923868656158447\n",
            "Epoch: 033, Train: 0.5536, Val: 0.5691, Test: 0.5787, Loss: 0.6924155950546265\n",
            "Epoch: 034, Train: 0.5743, Val: 0.5793, Test: 0.5688, Loss: 0.6921278238296509\n",
            "Epoch: 035, Train: 0.5589, Val: 0.5681, Test: 0.5673, Loss: 0.6920666694641113\n",
            "Epoch: 036, Train: 0.5706, Val: 0.5826, Test: 0.5570, Loss: 0.6921581029891968\n",
            "Epoch: 037, Train: 0.5835, Val: 0.5644, Test: 0.5681, Loss: 0.691875159740448\n",
            "Epoch: 038, Train: 0.5862, Val: 0.5734, Test: 0.5737, Loss: 0.691796064376831\n",
            "Epoch: 039, Train: 0.5686, Val: 0.5686, Test: 0.5745, Loss: 0.6917253136634827\n",
            "Epoch: 040, Train: 0.5790, Val: 0.5784, Test: 0.5719, Loss: 0.6916207671165466\n",
            "Epoch: 041, Train: 0.5782, Val: 0.5783, Test: 0.5723, Loss: 0.69135582447052\n",
            "Epoch: 042, Train: 0.5769, Val: 0.5810, Test: 0.5666, Loss: 0.6915280818939209\n",
            "Epoch: 043, Train: 0.5785, Val: 0.5768, Test: 0.5777, Loss: 0.6914904713630676\n",
            "Epoch: 044, Train: 0.5736, Val: 0.5847, Test: 0.5780, Loss: 0.6912055015563965\n",
            "Epoch: 045, Train: 0.5821, Val: 0.5762, Test: 0.5780, Loss: 0.6910116672515869\n",
            "Epoch: 046, Train: 0.5757, Val: 0.5773, Test: 0.5782, Loss: 0.6908576488494873\n",
            "Epoch: 047, Train: 0.5690, Val: 0.5684, Test: 0.5688, Loss: 0.6907280683517456\n",
            "Epoch: 048, Train: 0.5724, Val: 0.5668, Test: 0.5695, Loss: 0.6901888251304626\n",
            "Epoch: 049, Train: 0.5748, Val: 0.5733, Test: 0.5613, Loss: 0.6902698874473572\n",
            "Epoch: 050, Train: 0.5729, Val: 0.5678, Test: 0.5722, Loss: 0.6903198957443237\n",
            "Epoch: 051, Train: 0.5671, Val: 0.5691, Test: 0.5785, Loss: 0.6894367933273315\n",
            "Epoch: 052, Train: 0.5751, Val: 0.5752, Test: 0.5697, Loss: 0.6895043849945068\n",
            "Epoch: 053, Train: 0.5739, Val: 0.5726, Test: 0.5684, Loss: 0.6888600587844849\n",
            "Epoch: 054, Train: 0.5704, Val: 0.5749, Test: 0.5678, Loss: 0.6890596151351929\n",
            "Epoch: 055, Train: 0.5656, Val: 0.5760, Test: 0.5701, Loss: 0.6882123351097107\n",
            "Epoch: 056, Train: 0.5631, Val: 0.5669, Test: 0.5731, Loss: 0.6884247064590454\n",
            "Epoch: 057, Train: 0.5761, Val: 0.5730, Test: 0.5776, Loss: 0.687227189540863\n",
            "Epoch: 058, Train: 0.5761, Val: 0.5712, Test: 0.5670, Loss: 0.6870284676551819\n",
            "Epoch: 059, Train: 0.5770, Val: 0.5779, Test: 0.5751, Loss: 0.6865769624710083\n",
            "Epoch: 060, Train: 0.5767, Val: 0.5779, Test: 0.5700, Loss: 0.6867585182189941\n",
            "Epoch: 061, Train: 0.5732, Val: 0.5804, Test: 0.5781, Loss: 0.6860305070877075\n",
            "Epoch: 062, Train: 0.5810, Val: 0.5770, Test: 0.5701, Loss: 0.6844899654388428\n",
            "Epoch: 063, Train: 0.5736, Val: 0.5843, Test: 0.5789, Loss: 0.6849884986877441\n",
            "Epoch: 064, Train: 0.5797, Val: 0.5799, Test: 0.5859, Loss: 0.6822526454925537\n",
            "Epoch: 065, Train: 0.5808, Val: 0.5881, Test: 0.5844, Loss: 0.6831240653991699\n",
            "Epoch: 066, Train: 0.5878, Val: 0.5880, Test: 0.5860, Loss: 0.6824229955673218\n",
            "Epoch: 067, Train: 0.5915, Val: 0.5886, Test: 0.5900, Loss: 0.6811468601226807\n",
            "Epoch: 068, Train: 0.5961, Val: 0.5957, Test: 0.5942, Loss: 0.6788656115531921\n",
            "Epoch: 069, Train: 0.5975, Val: 0.6069, Test: 0.6011, Loss: 0.6772207021713257\n",
            "Epoch: 070, Train: 0.6048, Val: 0.6058, Test: 0.6079, Loss: 0.675081729888916\n",
            "Epoch: 071, Train: 0.6134, Val: 0.6171, Test: 0.6126, Loss: 0.6745327711105347\n",
            "Epoch: 072, Train: 0.6161, Val: 0.6175, Test: 0.6246, Loss: 0.6733436584472656\n",
            "Epoch: 073, Train: 0.6311, Val: 0.6302, Test: 0.6252, Loss: 0.6713365912437439\n",
            "Epoch: 074, Train: 0.6439, Val: 0.6389, Test: 0.6426, Loss: 0.6690670847892761\n",
            "Epoch: 075, Train: 0.6532, Val: 0.6485, Test: 0.6507, Loss: 0.6649067997932434\n",
            "Epoch: 076, Train: 0.6626, Val: 0.6616, Test: 0.6628, Loss: 0.6648954153060913\n",
            "Epoch: 077, Train: 0.6698, Val: 0.6675, Test: 0.6666, Loss: 0.6587664484977722\n",
            "Epoch: 078, Train: 0.6768, Val: 0.6776, Test: 0.6713, Loss: 0.6575669646263123\n",
            "Epoch: 079, Train: 0.6779, Val: 0.6802, Test: 0.6778, Loss: 0.6514678597450256\n",
            "Epoch: 080, Train: 0.6833, Val: 0.6843, Test: 0.6821, Loss: 0.6509184837341309\n",
            "Epoch: 081, Train: 0.6845, Val: 0.6852, Test: 0.6826, Loss: 0.6422255039215088\n",
            "Epoch: 082, Train: 0.6858, Val: 0.6846, Test: 0.6872, Loss: 0.6351609230041504\n",
            "Epoch: 083, Train: 0.6891, Val: 0.6861, Test: 0.6901, Loss: 0.6343798637390137\n",
            "Epoch: 084, Train: 0.6859, Val: 0.6863, Test: 0.6891, Loss: 0.6338979601860046\n",
            "Epoch: 085, Train: 0.6942, Val: 0.6895, Test: 0.6906, Loss: 0.634054958820343\n",
            "Epoch: 086, Train: 0.6900, Val: 0.6882, Test: 0.6901, Loss: 0.6274504065513611\n",
            "Epoch: 087, Train: 0.6915, Val: 0.6841, Test: 0.6923, Loss: 0.6235857605934143\n",
            "Epoch: 088, Train: 0.6902, Val: 0.6914, Test: 0.6932, Loss: 0.6234096884727478\n",
            "Epoch: 089, Train: 0.6921, Val: 0.6931, Test: 0.6931, Loss: 0.6196452975273132\n",
            "Epoch: 090, Train: 0.6942, Val: 0.6906, Test: 0.6881, Loss: 0.6225627064704895\n",
            "Epoch: 091, Train: 0.6986, Val: 0.6926, Test: 0.6922, Loss: 0.6175798177719116\n",
            "Epoch: 092, Train: 0.6934, Val: 0.6946, Test: 0.6921, Loss: 0.6305064558982849\n",
            "Epoch: 093, Train: 0.6940, Val: 0.6941, Test: 0.6943, Loss: 0.6043059825897217\n",
            "Epoch: 094, Train: 0.6952, Val: 0.6936, Test: 0.6969, Loss: 0.6167582273483276\n",
            "Epoch: 095, Train: 0.6937, Val: 0.7010, Test: 0.6974, Loss: 0.6148104667663574\n",
            "Epoch: 096, Train: 0.6972, Val: 0.7012, Test: 0.6975, Loss: 0.6099715828895569\n",
            "Epoch: 097, Train: 0.7014, Val: 0.7011, Test: 0.7030, Loss: 0.6088742017745972\n",
            "Epoch: 098, Train: 0.7011, Val: 0.7068, Test: 0.7025, Loss: 0.6080142259597778\n",
            "Epoch: 099, Train: 0.7045, Val: 0.6981, Test: 0.7004, Loss: 0.5998087525367737\n",
            "Epoch: 100, Train: 0.7056, Val: 0.7056, Test: 0.7018, Loss: 0.6032758355140686\n",
            "Epoch: 101, Train: 0.7056, Val: 0.7048, Test: 0.7040, Loss: 0.6069248914718628\n",
            "Epoch: 102, Train: 0.7038, Val: 0.7067, Test: 0.7054, Loss: 0.60273277759552\n",
            "Epoch: 103, Train: 0.7063, Val: 0.7021, Test: 0.7088, Loss: 0.598381757736206\n",
            "Epoch: 104, Train: 0.7088, Val: 0.7104, Test: 0.7094, Loss: 0.6034517288208008\n",
            "Epoch: 105, Train: 0.7067, Val: 0.7099, Test: 0.7072, Loss: 0.5995836853981018\n",
            "Epoch: 106, Train: 0.7091, Val: 0.7043, Test: 0.7074, Loss: 0.5988511443138123\n",
            "Epoch: 107, Train: 0.7098, Val: 0.7132, Test: 0.7086, Loss: 0.5944685935974121\n",
            "Epoch: 108, Train: 0.7079, Val: 0.7120, Test: 0.7101, Loss: 0.587197482585907\n",
            "Epoch: 109, Train: 0.7119, Val: 0.7092, Test: 0.7150, Loss: 0.5885457396507263\n",
            "Epoch: 110, Train: 0.7093, Val: 0.7106, Test: 0.7091, Loss: 0.5896660089492798\n",
            "Epoch: 111, Train: 0.7079, Val: 0.7087, Test: 0.7068, Loss: 0.5853649377822876\n",
            "Epoch: 112, Train: 0.7070, Val: 0.7078, Test: 0.7103, Loss: 0.5787097215652466\n",
            "Epoch: 113, Train: 0.7086, Val: 0.7130, Test: 0.7121, Loss: 0.5921451449394226\n",
            "Epoch: 114, Train: 0.7143, Val: 0.7111, Test: 0.7119, Loss: 0.592217206954956\n",
            "Epoch: 115, Train: 0.7138, Val: 0.7113, Test: 0.7130, Loss: 0.5716858506202698\n",
            "Epoch: 116, Train: 0.7116, Val: 0.7161, Test: 0.7140, Loss: 0.587237536907196\n",
            "Epoch: 117, Train: 0.7109, Val: 0.7156, Test: 0.7113, Loss: 0.578368604183197\n",
            "Epoch: 118, Train: 0.7113, Val: 0.7146, Test: 0.7117, Loss: 0.576600968837738\n",
            "Epoch: 119, Train: 0.7180, Val: 0.7136, Test: 0.7141, Loss: 0.5798041224479675\n",
            "Epoch: 120, Train: 0.7174, Val: 0.7119, Test: 0.7120, Loss: 0.5690731406211853\n",
            "Epoch: 121, Train: 0.7169, Val: 0.7175, Test: 0.7163, Loss: 0.5781051516532898\n",
            "Epoch: 122, Train: 0.7205, Val: 0.7169, Test: 0.7175, Loss: 0.5677254796028137\n",
            "Epoch: 123, Train: 0.7206, Val: 0.7180, Test: 0.7203, Loss: 0.5759607553482056\n",
            "Epoch: 124, Train: 0.7228, Val: 0.7185, Test: 0.7180, Loss: 0.5757404565811157\n",
            "Epoch: 125, Train: 0.7166, Val: 0.7196, Test: 0.7154, Loss: 0.5722357630729675\n",
            "Epoch: 126, Train: 0.7172, Val: 0.7144, Test: 0.7197, Loss: 0.5699430704116821\n",
            "Epoch: 127, Train: 0.7206, Val: 0.7203, Test: 0.7217, Loss: 0.5705065131187439\n",
            "Epoch: 128, Train: 0.7272, Val: 0.7239, Test: 0.7211, Loss: 0.567543089389801\n",
            "Epoch: 129, Train: 0.7293, Val: 0.7261, Test: 0.7250, Loss: 0.5717831254005432\n",
            "Epoch: 130, Train: 0.7266, Val: 0.7244, Test: 0.7262, Loss: 0.5725716352462769\n",
            "Epoch: 131, Train: 0.7279, Val: 0.7212, Test: 0.7288, Loss: 0.5672725439071655\n",
            "Epoch: 132, Train: 0.7253, Val: 0.7260, Test: 0.7268, Loss: 0.5543482899665833\n",
            "Epoch: 133, Train: 0.7278, Val: 0.7295, Test: 0.7356, Loss: 0.5603772401809692\n",
            "Epoch: 134, Train: 0.7310, Val: 0.7332, Test: 0.7328, Loss: 0.5640334486961365\n",
            "Epoch: 135, Train: 0.7350, Val: 0.7369, Test: 0.7347, Loss: 0.566340982913971\n",
            "Epoch: 136, Train: 0.7381, Val: 0.7338, Test: 0.7409, Loss: 0.5539376735687256\n",
            "Epoch: 137, Train: 0.7366, Val: 0.7343, Test: 0.7380, Loss: 0.5548955202102661\n",
            "Epoch: 138, Train: 0.7298, Val: 0.7365, Test: 0.7341, Loss: 0.5496098399162292\n",
            "Epoch: 139, Train: 0.7406, Val: 0.7345, Test: 0.7330, Loss: 0.5559428930282593\n",
            "Epoch: 140, Train: 0.7441, Val: 0.7442, Test: 0.7434, Loss: 0.544111430644989\n",
            "Epoch: 141, Train: 0.7476, Val: 0.7421, Test: 0.7440, Loss: 0.5469374656677246\n",
            "Epoch: 142, Train: 0.7477, Val: 0.7449, Test: 0.7503, Loss: 0.5458777546882629\n",
            "Epoch: 143, Train: 0.7510, Val: 0.7515, Test: 0.7511, Loss: 0.542095959186554\n",
            "Epoch: 144, Train: 0.7537, Val: 0.7499, Test: 0.7413, Loss: 0.539330244064331\n",
            "Epoch: 145, Train: 0.7437, Val: 0.7447, Test: 0.7468, Loss: 0.5405905246734619\n",
            "Epoch: 146, Train: 0.7504, Val: 0.7541, Test: 0.7505, Loss: 0.5532245635986328\n",
            "Epoch: 147, Train: 0.7570, Val: 0.7529, Test: 0.7568, Loss: 0.5516221523284912\n",
            "Epoch: 148, Train: 0.7563, Val: 0.7536, Test: 0.7537, Loss: 0.5306270718574524\n",
            "Epoch: 149, Train: 0.7569, Val: 0.7607, Test: 0.7606, Loss: 0.5340239405632019\n",
            "Epoch: 150, Train: 0.7568, Val: 0.7624, Test: 0.7561, Loss: 0.5324729681015015\n",
            "Epoch: 151, Train: 0.7559, Val: 0.7571, Test: 0.7552, Loss: 0.5337051153182983\n",
            "Epoch: 152, Train: 0.7585, Val: 0.7586, Test: 0.7548, Loss: 0.541706383228302\n",
            "Epoch: 153, Train: 0.7564, Val: 0.7584, Test: 0.7574, Loss: 0.5347062349319458\n",
            "Epoch: 154, Train: 0.7579, Val: 0.7649, Test: 0.7619, Loss: 0.5310733914375305\n",
            "Epoch: 155, Train: 0.7607, Val: 0.7589, Test: 0.7637, Loss: 0.52706378698349\n",
            "Epoch: 156, Train: 0.7630, Val: 0.7628, Test: 0.7627, Loss: 0.5363813042640686\n",
            "Epoch: 157, Train: 0.7658, Val: 0.7614, Test: 0.7624, Loss: 0.5357294678688049\n",
            "Epoch: 158, Train: 0.7631, Val: 0.7609, Test: 0.7651, Loss: 0.5249817967414856\n",
            "Epoch: 159, Train: 0.7629, Val: 0.7633, Test: 0.7678, Loss: 0.528731644153595\n",
            "Epoch: 160, Train: 0.7699, Val: 0.7640, Test: 0.7627, Loss: 0.526695966720581\n",
            "Epoch: 161, Train: 0.7671, Val: 0.7689, Test: 0.7664, Loss: 0.5286640524864197\n",
            "Epoch: 162, Train: 0.7719, Val: 0.7665, Test: 0.7650, Loss: 0.5278968214988708\n",
            "Epoch: 163, Train: 0.7675, Val: 0.7675, Test: 0.7695, Loss: 0.5220707058906555\n",
            "Epoch: 164, Train: 0.7689, Val: 0.7655, Test: 0.7676, Loss: 0.5226556062698364\n",
            "Epoch: 165, Train: 0.7672, Val: 0.7694, Test: 0.7676, Loss: 0.5124722123146057\n",
            "Epoch: 166, Train: 0.7646, Val: 0.7655, Test: 0.7717, Loss: 0.5278595685958862\n",
            "Epoch: 167, Train: 0.7663, Val: 0.7641, Test: 0.7699, Loss: 0.5114434361457825\n",
            "Epoch: 168, Train: 0.7704, Val: 0.7673, Test: 0.7701, Loss: 0.5205416083335876\n",
            "Epoch: 169, Train: 0.7678, Val: 0.7660, Test: 0.7688, Loss: 0.5107298493385315\n",
            "Epoch: 170, Train: 0.7726, Val: 0.7658, Test: 0.7681, Loss: 0.5171923041343689\n",
            "Epoch: 171, Train: 0.7710, Val: 0.7721, Test: 0.7710, Loss: 0.5124446153640747\n",
            "Epoch: 172, Train: 0.7737, Val: 0.7703, Test: 0.7672, Loss: 0.5160820484161377\n",
            "Epoch: 173, Train: 0.7713, Val: 0.7693, Test: 0.7680, Loss: 0.5132119059562683\n",
            "Epoch: 174, Train: 0.7643, Val: 0.7656, Test: 0.7673, Loss: 0.531738817691803\n",
            "Epoch: 175, Train: 0.7656, Val: 0.7664, Test: 0.7630, Loss: 0.5154748558998108\n",
            "Epoch: 176, Train: 0.7693, Val: 0.7684, Test: 0.7688, Loss: 0.5101743340492249\n",
            "Epoch: 177, Train: 0.7651, Val: 0.7684, Test: 0.7729, Loss: 0.5179973244667053\n",
            "Epoch: 178, Train: 0.7737, Val: 0.7725, Test: 0.7699, Loss: 0.4979640245437622\n",
            "Epoch: 179, Train: 0.7738, Val: 0.7703, Test: 0.7701, Loss: 0.5095608234405518\n",
            "Epoch: 180, Train: 0.7734, Val: 0.7693, Test: 0.7659, Loss: 0.504597008228302\n",
            "Epoch: 181, Train: 0.7680, Val: 0.7710, Test: 0.7747, Loss: 0.5031812787055969\n",
            "Epoch: 182, Train: 0.7722, Val: 0.7741, Test: 0.7684, Loss: 0.5123021602630615\n",
            "Epoch: 183, Train: 0.7715, Val: 0.7720, Test: 0.7720, Loss: 0.5052560567855835\n",
            "Epoch: 184, Train: 0.7750, Val: 0.7695, Test: 0.7708, Loss: 0.5158369541168213\n",
            "Epoch: 185, Train: 0.7683, Val: 0.7675, Test: 0.7690, Loss: 0.5005894899368286\n",
            "Epoch: 186, Train: 0.7745, Val: 0.7737, Test: 0.7721, Loss: 0.5158776044845581\n",
            "Epoch: 187, Train: 0.7735, Val: 0.7722, Test: 0.7703, Loss: 0.49892792105674744\n",
            "Epoch: 188, Train: 0.7736, Val: 0.7731, Test: 0.7674, Loss: 0.49452894926071167\n",
            "Epoch: 189, Train: 0.7728, Val: 0.7738, Test: 0.7716, Loss: 0.5052100419998169\n",
            "Epoch: 190, Train: 0.7697, Val: 0.7698, Test: 0.7696, Loss: 0.5041189789772034\n",
            "Epoch: 191, Train: 0.7742, Val: 0.7745, Test: 0.7752, Loss: 0.4987856447696686\n",
            "Epoch: 192, Train: 0.7709, Val: 0.7775, Test: 0.7788, Loss: 0.5102832317352295\n",
            "Epoch: 193, Train: 0.7724, Val: 0.7728, Test: 0.7705, Loss: 0.5037292838096619\n",
            "Epoch: 194, Train: 0.7714, Val: 0.7766, Test: 0.7692, Loss: 0.4981083273887634\n",
            "Epoch: 195, Train: 0.7738, Val: 0.7732, Test: 0.7673, Loss: 0.49912363290786743\n",
            "Epoch: 196, Train: 0.7707, Val: 0.7708, Test: 0.7731, Loss: 0.49059122800827026\n",
            "Epoch: 197, Train: 0.7753, Val: 0.7741, Test: 0.7723, Loss: 0.49306926131248474\n",
            "Epoch: 198, Train: 0.7688, Val: 0.7733, Test: 0.7743, Loss: 0.5050923228263855\n",
            "Epoch: 199, Train: 0.7711, Val: 0.7732, Test: 0.7754, Loss: 0.4904606342315674\n",
            "Train: 0.7745, Val: 0.7721, Test: 0.7740\n"
          ]
        }
      ]
    },
    {
      "cell_type": "markdown",
      "source": [
        "## Question 4: What is the maximum ROC-AUC score you could get for the best_model on test set? (13 points)\n",
        "\n"
      ],
      "metadata": {
        "id": "MyQIDYnmk-Ni"
      }
    },
    {
      "cell_type": "code",
      "source": [
        "print(log.format(best_train_roc, best_val_roc, best_test_roc))\n"
      ],
      "metadata": {
        "colab": {
          "base_uri": "https://localhost:8080/"
        },
        "id": "IXnHyxx2k6Gk",
        "outputId": "744249e5-4809-41e0-9237-9b147a750a6b"
      },
      "execution_count": 115,
      "outputs": [
        {
          "output_type": "stream",
          "name": "stdout",
          "text": [
            "Train: 0.7745, Val: 0.7721, Test: 0.7740\n"
          ]
        }
      ]
    }
  ]
}